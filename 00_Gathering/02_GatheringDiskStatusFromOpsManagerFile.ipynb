{
 "cells": [
  {
   "cell_type": "code",
   "execution_count": 1,
   "id": "360b0a04",
   "metadata": {},
   "outputs": [
    {
     "name": "stderr",
     "output_type": "stream",
     "text": [
      "/Users/marantz/.pyenv/versions/3.7.6/lib/python3.7/site-packages/pandas/compat/__init__.py:124: UserWarning: Could not import the lzma module. Your installed Python is incomplete. Attempting to use lzma compression will result in a RuntimeError.\n",
      "  warnings.warn(msg)\n"
     ]
    }
   ],
   "source": [
    "import json\n",
    "import pandas as pd\n",
    "import numpy as np \n",
    "import requests\n",
    "from requests.auth import HTTPDigestAuth"
   ]
  },
  {
   "cell_type": "code",
   "execution_count": 2,
   "id": "4e9c54c0",
   "metadata": {},
   "outputs": [],
   "source": [
    "#PUB_KEY=\"wmhpimjc\"\n",
    "#PRIVATE_KEY=\"00634500-6801-4399-8463-e94c09df6521\"\n",
    "#GROUP_ID=\"5cc99cd879358e1a071da4a5\"\\\n",
    "# curl -i -u \"{PUBLIC-KEY}:{PRIVATE-KEY}\"\n",
    "# --digest \"https://cloud.mongodb.com/api/atlas/v1.0/groups/{GROUP-ID}/processes/\n",
    "# atlas-39m1v8-shard-00-01.pmezp.mongodb.net:27017\n",
    "# measurements?granularity=PT1M&period=2H&pretty=true\"\n",
    "#RESOURCE_ID=\"atlas-rvoilc-shard-00-02.pmezp.mongodb.net:27017\"\n",
    "\n",
    "#BASE_URL=\"https://cloud.mongodb.com/api/atlas/v1.0/groups/\"\n",
    "#REQUESTS_URL=BASE_URL + GROUP_ID + \"/processes/\"+ RESOURCE_ID +\"/measurements?granularity=PT1M&period=PT1H\"\n",
    "#REQUESTS_URL"
   ]
  },
  {
   "cell_type": "code",
   "execution_count": 3,
   "id": "bd6f3f95",
   "metadata": {},
   "outputs": [],
   "source": [
    "#response=requests.get(REQUESTS_URL, auth=HTTPDigestAuth(PUB_KEY, PRIVATE_KEY))"
   ]
  },
  {
   "cell_type": "code",
   "execution_count": 4,
   "id": "cdcd1706",
   "metadata": {},
   "outputs": [],
   "source": [
    "#response.status_code "
   ]
  },
  {
   "cell_type": "code",
   "execution_count": 5,
   "id": "3671d683",
   "metadata": {},
   "outputs": [],
   "source": [
    "#response.text"
   ]
  },
  {
   "cell_type": "code",
   "execution_count": 6,
   "id": "f5dcacf8",
   "metadata": {},
   "outputs": [],
   "source": [
    "#dict = json.loads(response.text)\n",
    "#dict\n",
    "file_path='/Users/marantz/Desktop/WORKs/Dreamus/METRICS/mongodb_status_1025/'\n",
    "file_name='status_dm-1_PT10S_PT24H_20211025145115.json'\n",
    "full_path=file_path+file_name\n",
    "\n",
    "with open(full_path) as json_file:\n",
    "    dict = json.load(json_file)"
   ]
  },
  {
   "cell_type": "code",
   "execution_count": 7,
   "id": "5909433a",
   "metadata": {},
   "outputs": [],
   "source": [
    "results=dict['measurements']"
   ]
  },
  {
   "cell_type": "code",
   "execution_count": 8,
   "id": "93df46d8",
   "metadata": {},
   "outputs": [],
   "source": [
    "#results"
   ]
  },
  {
   "cell_type": "code",
   "execution_count": 9,
   "id": "5d88a94e",
   "metadata": {},
   "outputs": [
    {
     "data": {
      "text/html": [
       "<div>\n",
       "<style scoped>\n",
       "    .dataframe tbody tr th:only-of-type {\n",
       "        vertical-align: middle;\n",
       "    }\n",
       "\n",
       "    .dataframe tbody tr th {\n",
       "        vertical-align: top;\n",
       "    }\n",
       "\n",
       "    .dataframe thead th {\n",
       "        text-align: right;\n",
       "    }\n",
       "</style>\n",
       "<table border=\"1\" class=\"dataframe\">\n",
       "  <thead>\n",
       "    <tr style=\"text-align: right;\">\n",
       "      <th></th>\n",
       "      <th>dataPoints</th>\n",
       "      <th>name</th>\n",
       "      <th>units</th>\n",
       "    </tr>\n",
       "  </thead>\n",
       "  <tbody>\n",
       "    <tr>\n",
       "      <th>0</th>\n",
       "      <td>[{'timestamp': '2021-10-24T05:51:15Z', 'value'...</td>\n",
       "      <td>DISK_PARTITION_IOPS_READ</td>\n",
       "      <td>SCALAR_PER_SECOND</td>\n",
       "    </tr>\n",
       "    <tr>\n",
       "      <th>1</th>\n",
       "      <td>[{'timestamp': '2021-10-24T05:51:15Z', 'value'...</td>\n",
       "      <td>DISK_PARTITION_IOPS_WRITE</td>\n",
       "      <td>SCALAR_PER_SECOND</td>\n",
       "    </tr>\n",
       "    <tr>\n",
       "      <th>2</th>\n",
       "      <td>[{'timestamp': '2021-10-24T05:51:15Z', 'value'...</td>\n",
       "      <td>DISK_PARTITION_IOPS_TOTAL</td>\n",
       "      <td>SCALAR_PER_SECOND</td>\n",
       "    </tr>\n",
       "    <tr>\n",
       "      <th>3</th>\n",
       "      <td>[{'timestamp': '2021-10-24T05:51:15Z', 'value'...</td>\n",
       "      <td>DISK_PARTITION_UTILIZATION</td>\n",
       "      <td>PERCENT</td>\n",
       "    </tr>\n",
       "    <tr>\n",
       "      <th>4</th>\n",
       "      <td>[{'timestamp': '2021-10-24T05:51:15Z', 'value'...</td>\n",
       "      <td>DISK_PARTITION_LATENCY_READ</td>\n",
       "      <td>MILLISECONDS</td>\n",
       "    </tr>\n",
       "    <tr>\n",
       "      <th>5</th>\n",
       "      <td>[{'timestamp': '2021-10-24T05:51:15Z', 'value'...</td>\n",
       "      <td>DISK_PARTITION_LATENCY_WRITE</td>\n",
       "      <td>MILLISECONDS</td>\n",
       "    </tr>\n",
       "    <tr>\n",
       "      <th>6</th>\n",
       "      <td>[{'timestamp': '2021-10-24T05:51:15Z', 'value'...</td>\n",
       "      <td>DISK_PARTITION_SPACE_FREE</td>\n",
       "      <td>BYTES</td>\n",
       "    </tr>\n",
       "    <tr>\n",
       "      <th>7</th>\n",
       "      <td>[{'timestamp': '2021-10-24T05:51:15Z', 'value'...</td>\n",
       "      <td>DISK_PARTITION_SPACE_USED</td>\n",
       "      <td>BYTES</td>\n",
       "    </tr>\n",
       "    <tr>\n",
       "      <th>8</th>\n",
       "      <td>[{'timestamp': '2021-10-24T05:51:15Z', 'value'...</td>\n",
       "      <td>DISK_PARTITION_SPACE_PERCENT_FREE</td>\n",
       "      <td>PERCENT</td>\n",
       "    </tr>\n",
       "    <tr>\n",
       "      <th>9</th>\n",
       "      <td>[{'timestamp': '2021-10-24T05:51:15Z', 'value'...</td>\n",
       "      <td>DISK_PARTITION_SPACE_PERCENT_USED</td>\n",
       "      <td>PERCENT</td>\n",
       "    </tr>\n",
       "  </tbody>\n",
       "</table>\n",
       "</div>"
      ],
      "text/plain": [
       "                                          dataPoints  \\\n",
       "0  [{'timestamp': '2021-10-24T05:51:15Z', 'value'...   \n",
       "1  [{'timestamp': '2021-10-24T05:51:15Z', 'value'...   \n",
       "2  [{'timestamp': '2021-10-24T05:51:15Z', 'value'...   \n",
       "3  [{'timestamp': '2021-10-24T05:51:15Z', 'value'...   \n",
       "4  [{'timestamp': '2021-10-24T05:51:15Z', 'value'...   \n",
       "5  [{'timestamp': '2021-10-24T05:51:15Z', 'value'...   \n",
       "6  [{'timestamp': '2021-10-24T05:51:15Z', 'value'...   \n",
       "7  [{'timestamp': '2021-10-24T05:51:15Z', 'value'...   \n",
       "8  [{'timestamp': '2021-10-24T05:51:15Z', 'value'...   \n",
       "9  [{'timestamp': '2021-10-24T05:51:15Z', 'value'...   \n",
       "\n",
       "                                name              units  \n",
       "0           DISK_PARTITION_IOPS_READ  SCALAR_PER_SECOND  \n",
       "1          DISK_PARTITION_IOPS_WRITE  SCALAR_PER_SECOND  \n",
       "2          DISK_PARTITION_IOPS_TOTAL  SCALAR_PER_SECOND  \n",
       "3         DISK_PARTITION_UTILIZATION            PERCENT  \n",
       "4        DISK_PARTITION_LATENCY_READ       MILLISECONDS  \n",
       "5       DISK_PARTITION_LATENCY_WRITE       MILLISECONDS  \n",
       "6          DISK_PARTITION_SPACE_FREE              BYTES  \n",
       "7          DISK_PARTITION_SPACE_USED              BYTES  \n",
       "8  DISK_PARTITION_SPACE_PERCENT_FREE            PERCENT  \n",
       "9  DISK_PARTITION_SPACE_PERCENT_USED            PERCENT  "
      ]
     },
     "execution_count": 9,
     "metadata": {},
     "output_type": "execute_result"
    }
   ],
   "source": [
    "df=pd.DataFrame(results)\n",
    "df"
   ]
  },
  {
   "cell_type": "code",
   "execution_count": 10,
   "id": "28e19523",
   "metadata": {},
   "outputs": [
    {
     "data": {
      "text/plain": [
       "Index(['dataPoints', 'name', 'units'], dtype='object')"
      ]
     },
     "execution_count": 10,
     "metadata": {},
     "output_type": "execute_result"
    }
   ],
   "source": [
    "df.keys()"
   ]
  },
  {
   "cell_type": "code",
   "execution_count": 11,
   "id": "6fa6d1bf",
   "metadata": {},
   "outputs": [
    {
     "data": {
      "text/plain": [
       "array(['DISK_PARTITION_IOPS_READ', 'DISK_PARTITION_IOPS_WRITE',\n",
       "       'DISK_PARTITION_IOPS_TOTAL', 'DISK_PARTITION_UTILIZATION',\n",
       "       'DISK_PARTITION_LATENCY_READ', 'DISK_PARTITION_LATENCY_WRITE',\n",
       "       'DISK_PARTITION_SPACE_FREE', 'DISK_PARTITION_SPACE_USED',\n",
       "       'DISK_PARTITION_SPACE_PERCENT_FREE',\n",
       "       'DISK_PARTITION_SPACE_PERCENT_USED'], dtype=object)"
      ]
     },
     "execution_count": 11,
     "metadata": {},
     "output_type": "execute_result"
    }
   ],
   "source": [
    "names=df['name'].unique()\n",
    "names"
   ]
  },
  {
   "cell_type": "code",
   "execution_count": 12,
   "id": "a52ff6fd",
   "metadata": {},
   "outputs": [
    {
     "data": {
      "text/plain": [
       "array(['SCALAR_PER_SECOND', 'PERCENT', 'MILLISECONDS', 'BYTES'],\n",
       "      dtype=object)"
      ]
     },
     "execution_count": 12,
     "metadata": {},
     "output_type": "execute_result"
    }
   ],
   "source": [
    "units=df['units'].unique()\n",
    "units"
   ]
  },
  {
   "cell_type": "code",
   "execution_count": 13,
   "id": "44381333",
   "metadata": {},
   "outputs": [],
   "source": [
    "#GATHER_LIST=['CACHE_BYTES_READ_INTO', 'CACHE_BYTES_WRITTEN_FROM', 'CACHE_DIRTY_BYTES', 'CACHE_USED_BYTES', 'CONNECTIONS', 'DB_STORAGE_TOTAL', 'DB_DATA_SIZE_TOTAL', 'DB_INDEX_SIZE_TOTAL', 'DOCUMENT_METRICS_RETURNED', 'DOCUMENT_METRICS_INSERTED', 'DOCUMENT_METRICS_UPDATED', 'DOCUMENT_METRICS_DELETED', 'MEMORY_RESIDENT', 'MEMORY_VIRTUAL', 'MEMORY_MAPPED', 'NETWORK_BYTES_IN', 'NETWORK_BYTES_OUT', 'NETWORK_NUM_REQUESTS', 'OPCOUNTER_CMD', 'OPCOUNTER_QUERY', 'OPCOUNTER_UPDATE', 'OPCOUNTER_DELETE', 'OPCOUNTER_GETMORE', 'OPCOUNTER_INSERT', 'OPCOUNTER_REPL_CMD', 'OPCOUNTER_REPL_UPDATE', 'OPCOUNTER_REPL_DELETE', 'OPCOUNTER_REPL_INSERT', 'OPERATIONS_SCAN_AND_ORDER', 'OP_EXECUTION_TIME_READS', 'OP_EXECUTION_TIME_WRITES', 'OP_EXECUTION_TIME_COMMANDS', 'OPLOG_MASTER_TIME', 'OPLOG_RATE_GB_PER_HOUR', 'TICKETS_AVAILABLE_READS', 'TICKETS_AVAILABLE_WRITE', 'PROCESS_CPU_USER', 'PROCESS_CPU_KERNEL', 'MAX_PROCESS_CPU_USER', 'MAX_PROCESS_CPU_KERNEL', 'SYSTEM_CPU_USER', 'SYSTEM_CPU_KERNEL', 'SYSTEM_CPU_NICE', 'SYSTEM_CPU_IOWAIT', 'SYSTEM_CPU_IRQ', 'SYSTEM_CPU_SOFTIRQ', 'SYSTEM_CPU_GUEST', 'SYSTEM_CPU_STEAL', 'SYSTEM_NORMALIZED_CPU_USER', 'SYSTEM_NORMALIZED_CPU_KERNEL', 'SYSTEM_NORMALIZED_CPU_NICE', 'SYSTEM_NORMALIZED_CPU_IOWAIT', 'SYSTEM_NORMALIZED_CPU_IRQ', 'SYSTEM_NORMALIZED_CPU_SOFTIRQ', 'SYSTEM_NORMALIZED_CPU_GUEST', 'SYSTEM_NORMALIZED_CPU_STEAL', 'SYSTEM_NETWORK_IN', 'SYSTEM_NETWORK_OUT', 'SWAP_IO_IN', 'SWAP_IO_OUT', 'MAX_SYSTEM_CPU_USER', 'MAX_SYSTEM_CPU_KERNEL', 'MAX_SYSTEM_CPU_NICE', 'MAX_SYSTEM_CPU_IOWAIT', 'MAX_SYSTEM_CPU_IRQ', 'MAX_SYSTEM_CPU_SOFTIRQ', 'MAX_SYSTEM_CPU_GUEST', 'MAX_SYSTEM_CPU_STEAL', 'MAX_SYSTEM_NETWORK_IN', 'MAX_SYSTEM_NETWORK_OUT', 'MAX_SWAP_IO_IN', 'MAX_SWAP_IO_OUT', 'SYSTEM_MEMORY_USED', 'SYSTEM_MEMORY_AVAILABLE', 'SYSTEM_MEMORY_FREE', 'SYSTEM_MEMORY_SHARED', 'SYSTEM_MEMORY_CACHED', 'SYSTEM_MEMORY_BUFFERS', 'SWAP_USAGE_USED', 'SWAP_USAGE_FREE', 'MAX_SYSTEM_MEMORY_USED', 'MAX_SYSTEM_MEMORY_AVAILABLE', 'MAX_SYSTEM_MEMORY_FREE', 'MAX_SYSTEM_MEMORY_SHARED', 'MAX_SYSTEM_MEMORY_CACHED', 'MAX_SYSTEM_MEMORY_BUFFERS', 'MAX_SWAP_USAGE_USED', 'MAX_SWAP_USAGE_FREE']\n",
    "\n",
    "GATHER_LIST=[\n",
    "'DISK_PARTITION_IOPS_READ', 'DISK_PARTITION_IOPS_WRITE',\n",
    "'DISK_PARTITION_IOPS_TOTAL', 'DISK_PARTITION_UTILIZATION',\n",
    "'DISK_PARTITION_LATENCY_READ', 'DISK_PARTITION_LATENCY_WRITE',\n",
    "'DISK_PARTITION_SPACE_FREE', 'DISK_PARTITION_SPACE_USED',\n",
    "'DISK_PARTITION_SPACE_PERCENT_FREE',\n",
    "'DISK_PARTITION_SPACE_PERCENT_USED'\n",
    "]\n",
    "\n",
    "SHEET_LIST=[\n",
    "'IOPS_READ', 'IOPS_WRITE',\n",
    "'IOPS_TOTAL', 'UTILIZATION',\n",
    "'LATENCY_READ', 'LATENCY_WRITE',\n",
    "'SPACE_FREE', 'SPACE_USED',\n",
    "'SPACE_PERCENT_FREE',\n",
    "'SPACE_PERCENT_USED'\n",
    "]\n",
    "\n",
    "def save_to_excel(tab_name,df_sheet,dataPoints,writer):\n",
    "    timestamps=[]\n",
    "    values=[]\n",
    "    for dataPoint in dataPoints:\n",
    "        if dataPoint['value'] != None:\n",
    "            timestamps.append(dataPoint['timestamp'])\n",
    "            values.append(dataPoint['value'])\n",
    "    save_df=pd.DataFrame(values,timestamps)\n",
    "    save_df.to_excel(writer, sheet_name=tab_name)\n",
    "\n",
    "with pd.ExcelWriter('measurements_disks.xlsx') as writer:\n",
    "    for result in results:\n",
    "        #print( result['name'] + '/' + result['units'])\n",
    "        if result['name'] in GATHER_LIST:\n",
    "            sheets_name=SHEET_LIST[GATHER_LIST.index(result['name'])]\n",
    "            save_to_excel(sheets_name,sheets_name,result['dataPoints'],writer)"
   ]
  },
  {
   "cell_type": "code",
   "execution_count": null,
   "id": "2314fdfd",
   "metadata": {},
   "outputs": [],
   "source": []
  }
 ],
 "metadata": {
  "kernelspec": {
   "display_name": "Python 3 (ipykernel)",
   "language": "python",
   "name": "python3"
  },
  "language_info": {
   "codemirror_mode": {
    "name": "ipython",
    "version": 3
   },
   "file_extension": ".py",
   "mimetype": "text/x-python",
   "name": "python",
   "nbconvert_exporter": "python",
   "pygments_lexer": "ipython3",
   "version": "3.7.6"
  }
 },
 "nbformat": 4,
 "nbformat_minor": 5
}
