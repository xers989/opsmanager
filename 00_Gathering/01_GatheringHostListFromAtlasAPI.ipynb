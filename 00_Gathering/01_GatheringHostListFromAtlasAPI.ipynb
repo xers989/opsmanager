{
 "cells": [
  {
   "cell_type": "code",
   "execution_count": 1,
   "id": "360b0a04",
   "metadata": {},
   "outputs": [
    {
     "name": "stderr",
     "output_type": "stream",
     "text": [
      "/Users/marantz/.pyenv/versions/3.7.6/lib/python3.7/site-packages/pandas/compat/__init__.py:124: UserWarning: Could not import the lzma module. Your installed Python is incomplete. Attempting to use lzma compression will result in a RuntimeError.\n",
      "  warnings.warn(msg)\n"
     ]
    }
   ],
   "source": [
    "import json\n",
    "import pandas as pd\n",
    "import numpy as np \n",
    "import requests\n",
    "from requests.auth import HTTPDigestAuth"
   ]
  },
  {
   "cell_type": "code",
   "execution_count": 2,
   "id": "4e9c54c0",
   "metadata": {},
   "outputs": [
    {
     "data": {
      "text/plain": [
       "'https://cloud.mongodb.com/api/atlas/v1.0/groups/5cc99cd879358e1a071da4a5/processes?pretty=true'"
      ]
     },
     "execution_count": 2,
     "metadata": {},
     "output_type": "execute_result"
    }
   ],
   "source": [
    "PUB_KEY=\"\"\n",
    "PRIVATE_KEY=\"\"\n",
    "GROUP_ID=\"\"\n",
    "\n",
    "# curl -i -u \"{PUBLIC-KEY}:{PRIVATE-KEY}\"\n",
    "# --digest \"https://cloud.mongodb.com/api/atlas/v1.0/groups/{GROUP-ID}/processes?pretty=true\"\n",
    "BASE_URL=\"https://cloud.mongodb.com/api/atlas/v1.0/groups/\"\n",
    "REQUESTS_URL=BASE_URL + GROUP_ID + \"/processes?pretty=true\"\n",
    "REQUESTS_URL"
   ]
  },
  {
   "cell_type": "code",
   "execution_count": 3,
   "id": "bd6f3f95",
   "metadata": {},
   "outputs": [],
   "source": [
    "response=requests.get(REQUESTS_URL, auth=HTTPDigestAuth(PUB_KEY, PRIVATE_KEY))"
   ]
  },
  {
   "cell_type": "code",
   "execution_count": 4,
   "id": "cdcd1706",
   "metadata": {},
   "outputs": [
    {
     "data": {
      "text/plain": [
       "200"
      ]
     },
     "execution_count": 4,
     "metadata": {},
     "output_type": "execute_result"
    }
   ],
   "source": [
    "response.status_code "
   ]
  },
  {
   "cell_type": "code",
   "execution_count": 5,
   "id": "3671d683",
   "metadata": {},
   "outputs": [
    {
     "data": {
      "text/plain": [
       "'{\\n  \"links\" : [ {\\n    \"href\" : \"https://cloud.mongodb.com/api/atlas/v1.0/groups/5cc99cd879358e1a071da4a5/processes?pretty=true&pageNum=1&itemsPerPage=100\",\\n    \"rel\" : \"self\"\\n  } ],\\n  \"results\" : [ {\\n    \"created\" : \"2021-10-15T05:58:36Z\",\\n    \"groupId\" : \"5cc99cd879358e1a071da4a5\",\\n    \"hostname\" : \"atlas-39m1v8-shard-00-00.pmezp.mongodb.net\",\\n    \"id\" : \"atlas-39m1v8-shard-00-00.pmezp.mongodb.net:27017\",\\n    \"lastPing\" : \"2021-10-21T01:51:40Z\",\\n    \"links\" : [ {\\n      \"href\" : \"https://cloud.mongodb.com/api/atlas/v1.0/groups/5cc99cd879358e1a071da4a5/processes/atlas-39m1v8-shard-00-00.pmezp.mongodb.net:27017\",\\n      \"rel\" : \"self\"\\n    } ],\\n    \"port\" : 27017,\\n    \"replicaSetName\" : \"atlas-39m1v8-shard-0\",\\n    \"typeName\" : \"REPLICA_SECONDARY\",\\n    \"userAlias\" : \"freedemo-shard-00-00.pmezp.mongodb.net\",\\n    \"version\" : \"4.4.10\"\\n  }, {\\n    \"created\" : \"2021-10-15T05:58:36Z\",\\n    \"groupId\" : \"5cc99cd879358e1a071da4a5\",\\n    \"hostname\" : \"atlas-39m1v8-shard-00-01.pmezp.mongodb.net\",\\n    \"id\" : \"atlas-39m1v8-shard-00-01.pmezp.mongodb.net:27017\",\\n    \"lastPing\" : \"2021-10-21T01:52:36Z\",\\n    \"links\" : [ {\\n      \"href\" : \"https://cloud.mongodb.com/api/atlas/v1.0/groups/5cc99cd879358e1a071da4a5/processes/atlas-39m1v8-shard-00-01.pmezp.mongodb.net:27017\",\\n      \"rel\" : \"self\"\\n    } ],\\n    \"port\" : 27017,\\n    \"replicaSetName\" : \"atlas-39m1v8-shard-0\",\\n    \"typeName\" : \"REPLICA_PRIMARY\",\\n    \"userAlias\" : \"freedemo-shard-00-01.pmezp.mongodb.net\",\\n    \"version\" : \"4.4.10\"\\n  }, {\\n    \"created\" : \"2021-10-15T05:58:36Z\",\\n    \"groupId\" : \"5cc99cd879358e1a071da4a5\",\\n    \"hostname\" : \"atlas-39m1v8-shard-00-02.pmezp.mongodb.net\",\\n    \"id\" : \"atlas-39m1v8-shard-00-02.pmezp.mongodb.net:27017\",\\n    \"lastPing\" : \"2021-10-21T01:50:29Z\",\\n    \"links\" : [ {\\n      \"href\" : \"https://cloud.mongodb.com/api/atlas/v1.0/groups/5cc99cd879358e1a071da4a5/processes/atlas-39m1v8-shard-00-02.pmezp.mongodb.net:27017\",\\n      \"rel\" : \"self\"\\n    } ],\\n    \"port\" : 27017,\\n    \"replicaSetName\" : \"atlas-39m1v8-shard-0\",\\n    \"typeName\" : \"REPLICA_SECONDARY\",\\n    \"userAlias\" : \"freedemo-shard-00-02.pmezp.mongodb.net\",\\n    \"version\" : \"4.4.10\"\\n  }, {\\n    \"created\" : \"2021-10-21T01:51:54Z\",\\n    \"groupId\" : \"5cc99cd879358e1a071da4a5\",\\n    \"hostname\" : \"atlas-rvoilc-shard-00-00.pmezp.mongodb.net\",\\n    \"id\" : \"atlas-rvoilc-shard-00-00.pmezp.mongodb.net:27017\",\\n    \"lastPing\" : \"2021-10-21T01:53:25Z\",\\n    \"links\" : [ {\\n      \"href\" : \"https://cloud.mongodb.com/api/atlas/v1.0/groups/5cc99cd879358e1a071da4a5/processes/atlas-rvoilc-shard-00-00.pmezp.mongodb.net:27017\",\\n      \"rel\" : \"self\"\\n    } ],\\n    \"port\" : 27017,\\n    \"replicaSetName\" : \"atlas-rvoilc-shard-0\",\\n    \"typeName\" : \"REPLICA_SECONDARY\",\\n    \"userAlias\" : \"m10demo-shard-00-00.pmezp.mongodb.net\",\\n    \"version\" : \"5.0.3\"\\n  }, {\\n    \"created\" : \"2021-10-21T01:51:54Z\",\\n    \"groupId\" : \"5cc99cd879358e1a071da4a5\",\\n    \"hostname\" : \"atlas-rvoilc-shard-00-01.pmezp.mongodb.net\",\\n    \"id\" : \"atlas-rvoilc-shard-00-01.pmezp.mongodb.net:27017\",\\n    \"lastPing\" : \"2021-10-21T01:53:25Z\",\\n    \"links\" : [ {\\n      \"href\" : \"https://cloud.mongodb.com/api/atlas/v1.0/groups/5cc99cd879358e1a071da4a5/processes/atlas-rvoilc-shard-00-01.pmezp.mongodb.net:27017\",\\n      \"rel\" : \"self\"\\n    } ],\\n    \"port\" : 27017,\\n    \"replicaSetName\" : \"atlas-rvoilc-shard-0\",\\n    \"typeName\" : \"REPLICA_SECONDARY\",\\n    \"userAlias\" : \"m10demo-shard-00-01.pmezp.mongodb.net\",\\n    \"version\" : \"5.0.3\"\\n  }, {\\n    \"created\" : \"2021-10-21T01:51:54Z\",\\n    \"groupId\" : \"5cc99cd879358e1a071da4a5\",\\n    \"hostname\" : \"atlas-rvoilc-shard-00-02.pmezp.mongodb.net\",\\n    \"id\" : \"atlas-rvoilc-shard-00-02.pmezp.mongodb.net:27017\",\\n    \"lastPing\" : \"2021-10-21T01:53:25Z\",\\n    \"links\" : [ {\\n      \"href\" : \"https://cloud.mongodb.com/api/atlas/v1.0/groups/5cc99cd879358e1a071da4a5/processes/atlas-rvoilc-shard-00-02.pmezp.mongodb.net:27017\",\\n      \"rel\" : \"self\"\\n    } ],\\n    \"port\" : 27017,\\n    \"replicaSetName\" : \"atlas-rvoilc-shard-0\",\\n    \"typeName\" : \"REPLICA_PRIMARY\",\\n    \"userAlias\" : \"m10demo-shard-00-02.pmezp.mongodb.net\",\\n    \"version\" : \"5.0.3\"\\n  } ],\\n  \"totalCount\" : 6\\n}'"
      ]
     },
     "execution_count": 5,
     "metadata": {},
     "output_type": "execute_result"
    }
   ],
   "source": [
    "response.text"
   ]
  },
  {
   "cell_type": "code",
   "execution_count": 6,
   "id": "f5dcacf8",
   "metadata": {},
   "outputs": [
    {
     "data": {
      "text/plain": [
       "{'links': [{'href': 'https://cloud.mongodb.com/api/atlas/v1.0/groups/5cc99cd879358e1a071da4a5/processes?pretty=true&pageNum=1&itemsPerPage=100',\n",
       "   'rel': 'self'}],\n",
       " 'results': [{'created': '2021-10-15T05:58:36Z',\n",
       "   'groupId': '5cc99cd879358e1a071da4a5',\n",
       "   'hostname': 'atlas-39m1v8-shard-00-00.pmezp.mongodb.net',\n",
       "   'id': 'atlas-39m1v8-shard-00-00.pmezp.mongodb.net:27017',\n",
       "   'lastPing': '2021-10-21T01:51:40Z',\n",
       "   'links': [{'href': 'https://cloud.mongodb.com/api/atlas/v1.0/groups/5cc99cd879358e1a071da4a5/processes/atlas-39m1v8-shard-00-00.pmezp.mongodb.net:27017',\n",
       "     'rel': 'self'}],\n",
       "   'port': 27017,\n",
       "   'replicaSetName': 'atlas-39m1v8-shard-0',\n",
       "   'typeName': 'REPLICA_SECONDARY',\n",
       "   'userAlias': 'freedemo-shard-00-00.pmezp.mongodb.net',\n",
       "   'version': '4.4.10'},\n",
       "  {'created': '2021-10-15T05:58:36Z',\n",
       "   'groupId': '5cc99cd879358e1a071da4a5',\n",
       "   'hostname': 'atlas-39m1v8-shard-00-01.pmezp.mongodb.net',\n",
       "   'id': 'atlas-39m1v8-shard-00-01.pmezp.mongodb.net:27017',\n",
       "   'lastPing': '2021-10-21T01:52:36Z',\n",
       "   'links': [{'href': 'https://cloud.mongodb.com/api/atlas/v1.0/groups/5cc99cd879358e1a071da4a5/processes/atlas-39m1v8-shard-00-01.pmezp.mongodb.net:27017',\n",
       "     'rel': 'self'}],\n",
       "   'port': 27017,\n",
       "   'replicaSetName': 'atlas-39m1v8-shard-0',\n",
       "   'typeName': 'REPLICA_PRIMARY',\n",
       "   'userAlias': 'freedemo-shard-00-01.pmezp.mongodb.net',\n",
       "   'version': '4.4.10'},\n",
       "  {'created': '2021-10-15T05:58:36Z',\n",
       "   'groupId': '5cc99cd879358e1a071da4a5',\n",
       "   'hostname': 'atlas-39m1v8-shard-00-02.pmezp.mongodb.net',\n",
       "   'id': 'atlas-39m1v8-shard-00-02.pmezp.mongodb.net:27017',\n",
       "   'lastPing': '2021-10-21T01:50:29Z',\n",
       "   'links': [{'href': 'https://cloud.mongodb.com/api/atlas/v1.0/groups/5cc99cd879358e1a071da4a5/processes/atlas-39m1v8-shard-00-02.pmezp.mongodb.net:27017',\n",
       "     'rel': 'self'}],\n",
       "   'port': 27017,\n",
       "   'replicaSetName': 'atlas-39m1v8-shard-0',\n",
       "   'typeName': 'REPLICA_SECONDARY',\n",
       "   'userAlias': 'freedemo-shard-00-02.pmezp.mongodb.net',\n",
       "   'version': '4.4.10'},\n",
       "  {'created': '2021-10-21T01:51:54Z',\n",
       "   'groupId': '5cc99cd879358e1a071da4a5',\n",
       "   'hostname': 'atlas-rvoilc-shard-00-00.pmezp.mongodb.net',\n",
       "   'id': 'atlas-rvoilc-shard-00-00.pmezp.mongodb.net:27017',\n",
       "   'lastPing': '2021-10-21T01:53:25Z',\n",
       "   'links': [{'href': 'https://cloud.mongodb.com/api/atlas/v1.0/groups/5cc99cd879358e1a071da4a5/processes/atlas-rvoilc-shard-00-00.pmezp.mongodb.net:27017',\n",
       "     'rel': 'self'}],\n",
       "   'port': 27017,\n",
       "   'replicaSetName': 'atlas-rvoilc-shard-0',\n",
       "   'typeName': 'REPLICA_SECONDARY',\n",
       "   'userAlias': 'm10demo-shard-00-00.pmezp.mongodb.net',\n",
       "   'version': '5.0.3'},\n",
       "  {'created': '2021-10-21T01:51:54Z',\n",
       "   'groupId': '5cc99cd879358e1a071da4a5',\n",
       "   'hostname': 'atlas-rvoilc-shard-00-01.pmezp.mongodb.net',\n",
       "   'id': 'atlas-rvoilc-shard-00-01.pmezp.mongodb.net:27017',\n",
       "   'lastPing': '2021-10-21T01:53:25Z',\n",
       "   'links': [{'href': 'https://cloud.mongodb.com/api/atlas/v1.0/groups/5cc99cd879358e1a071da4a5/processes/atlas-rvoilc-shard-00-01.pmezp.mongodb.net:27017',\n",
       "     'rel': 'self'}],\n",
       "   'port': 27017,\n",
       "   'replicaSetName': 'atlas-rvoilc-shard-0',\n",
       "   'typeName': 'REPLICA_SECONDARY',\n",
       "   'userAlias': 'm10demo-shard-00-01.pmezp.mongodb.net',\n",
       "   'version': '5.0.3'},\n",
       "  {'created': '2021-10-21T01:51:54Z',\n",
       "   'groupId': '5cc99cd879358e1a071da4a5',\n",
       "   'hostname': 'atlas-rvoilc-shard-00-02.pmezp.mongodb.net',\n",
       "   'id': 'atlas-rvoilc-shard-00-02.pmezp.mongodb.net:27017',\n",
       "   'lastPing': '2021-10-21T01:53:25Z',\n",
       "   'links': [{'href': 'https://cloud.mongodb.com/api/atlas/v1.0/groups/5cc99cd879358e1a071da4a5/processes/atlas-rvoilc-shard-00-02.pmezp.mongodb.net:27017',\n",
       "     'rel': 'self'}],\n",
       "   'port': 27017,\n",
       "   'replicaSetName': 'atlas-rvoilc-shard-0',\n",
       "   'typeName': 'REPLICA_PRIMARY',\n",
       "   'userAlias': 'm10demo-shard-00-02.pmezp.mongodb.net',\n",
       "   'version': '5.0.3'}],\n",
       " 'totalCount': 6}"
      ]
     },
     "execution_count": 6,
     "metadata": {},
     "output_type": "execute_result"
    }
   ],
   "source": [
    "dict = json.loads(response.text)\n",
    "dict"
   ]
  },
  {
   "cell_type": "code",
   "execution_count": 7,
   "id": "2d7d18db",
   "metadata": {},
   "outputs": [],
   "source": [
    "results=dict['results']"
   ]
  },
  {
   "cell_type": "code",
   "execution_count": 8,
   "id": "20058a42",
   "metadata": {},
   "outputs": [
    {
     "data": {
      "text/plain": [
       "[{'created': '2021-10-15T05:58:36Z',\n",
       "  'groupId': '5cc99cd879358e1a071da4a5',\n",
       "  'hostname': 'atlas-39m1v8-shard-00-00.pmezp.mongodb.net',\n",
       "  'id': 'atlas-39m1v8-shard-00-00.pmezp.mongodb.net:27017',\n",
       "  'lastPing': '2021-10-21T01:51:40Z',\n",
       "  'links': [{'href': 'https://cloud.mongodb.com/api/atlas/v1.0/groups/5cc99cd879358e1a071da4a5/processes/atlas-39m1v8-shard-00-00.pmezp.mongodb.net:27017',\n",
       "    'rel': 'self'}],\n",
       "  'port': 27017,\n",
       "  'replicaSetName': 'atlas-39m1v8-shard-0',\n",
       "  'typeName': 'REPLICA_SECONDARY',\n",
       "  'userAlias': 'freedemo-shard-00-00.pmezp.mongodb.net',\n",
       "  'version': '4.4.10'},\n",
       " {'created': '2021-10-15T05:58:36Z',\n",
       "  'groupId': '5cc99cd879358e1a071da4a5',\n",
       "  'hostname': 'atlas-39m1v8-shard-00-01.pmezp.mongodb.net',\n",
       "  'id': 'atlas-39m1v8-shard-00-01.pmezp.mongodb.net:27017',\n",
       "  'lastPing': '2021-10-21T01:52:36Z',\n",
       "  'links': [{'href': 'https://cloud.mongodb.com/api/atlas/v1.0/groups/5cc99cd879358e1a071da4a5/processes/atlas-39m1v8-shard-00-01.pmezp.mongodb.net:27017',\n",
       "    'rel': 'self'}],\n",
       "  'port': 27017,\n",
       "  'replicaSetName': 'atlas-39m1v8-shard-0',\n",
       "  'typeName': 'REPLICA_PRIMARY',\n",
       "  'userAlias': 'freedemo-shard-00-01.pmezp.mongodb.net',\n",
       "  'version': '4.4.10'},\n",
       " {'created': '2021-10-15T05:58:36Z',\n",
       "  'groupId': '5cc99cd879358e1a071da4a5',\n",
       "  'hostname': 'atlas-39m1v8-shard-00-02.pmezp.mongodb.net',\n",
       "  'id': 'atlas-39m1v8-shard-00-02.pmezp.mongodb.net:27017',\n",
       "  'lastPing': '2021-10-21T01:50:29Z',\n",
       "  'links': [{'href': 'https://cloud.mongodb.com/api/atlas/v1.0/groups/5cc99cd879358e1a071da4a5/processes/atlas-39m1v8-shard-00-02.pmezp.mongodb.net:27017',\n",
       "    'rel': 'self'}],\n",
       "  'port': 27017,\n",
       "  'replicaSetName': 'atlas-39m1v8-shard-0',\n",
       "  'typeName': 'REPLICA_SECONDARY',\n",
       "  'userAlias': 'freedemo-shard-00-02.pmezp.mongodb.net',\n",
       "  'version': '4.4.10'},\n",
       " {'created': '2021-10-21T01:51:54Z',\n",
       "  'groupId': '5cc99cd879358e1a071da4a5',\n",
       "  'hostname': 'atlas-rvoilc-shard-00-00.pmezp.mongodb.net',\n",
       "  'id': 'atlas-rvoilc-shard-00-00.pmezp.mongodb.net:27017',\n",
       "  'lastPing': '2021-10-21T01:53:25Z',\n",
       "  'links': [{'href': 'https://cloud.mongodb.com/api/atlas/v1.0/groups/5cc99cd879358e1a071da4a5/processes/atlas-rvoilc-shard-00-00.pmezp.mongodb.net:27017',\n",
       "    'rel': 'self'}],\n",
       "  'port': 27017,\n",
       "  'replicaSetName': 'atlas-rvoilc-shard-0',\n",
       "  'typeName': 'REPLICA_SECONDARY',\n",
       "  'userAlias': 'm10demo-shard-00-00.pmezp.mongodb.net',\n",
       "  'version': '5.0.3'},\n",
       " {'created': '2021-10-21T01:51:54Z',\n",
       "  'groupId': '5cc99cd879358e1a071da4a5',\n",
       "  'hostname': 'atlas-rvoilc-shard-00-01.pmezp.mongodb.net',\n",
       "  'id': 'atlas-rvoilc-shard-00-01.pmezp.mongodb.net:27017',\n",
       "  'lastPing': '2021-10-21T01:53:25Z',\n",
       "  'links': [{'href': 'https://cloud.mongodb.com/api/atlas/v1.0/groups/5cc99cd879358e1a071da4a5/processes/atlas-rvoilc-shard-00-01.pmezp.mongodb.net:27017',\n",
       "    'rel': 'self'}],\n",
       "  'port': 27017,\n",
       "  'replicaSetName': 'atlas-rvoilc-shard-0',\n",
       "  'typeName': 'REPLICA_SECONDARY',\n",
       "  'userAlias': 'm10demo-shard-00-01.pmezp.mongodb.net',\n",
       "  'version': '5.0.3'},\n",
       " {'created': '2021-10-21T01:51:54Z',\n",
       "  'groupId': '5cc99cd879358e1a071da4a5',\n",
       "  'hostname': 'atlas-rvoilc-shard-00-02.pmezp.mongodb.net',\n",
       "  'id': 'atlas-rvoilc-shard-00-02.pmezp.mongodb.net:27017',\n",
       "  'lastPing': '2021-10-21T01:53:25Z',\n",
       "  'links': [{'href': 'https://cloud.mongodb.com/api/atlas/v1.0/groups/5cc99cd879358e1a071da4a5/processes/atlas-rvoilc-shard-00-02.pmezp.mongodb.net:27017',\n",
       "    'rel': 'self'}],\n",
       "  'port': 27017,\n",
       "  'replicaSetName': 'atlas-rvoilc-shard-0',\n",
       "  'typeName': 'REPLICA_PRIMARY',\n",
       "  'userAlias': 'm10demo-shard-00-02.pmezp.mongodb.net',\n",
       "  'version': '5.0.3'}]"
      ]
     },
     "execution_count": 8,
     "metadata": {},
     "output_type": "execute_result"
    }
   ],
   "source": [
    "results"
   ]
  },
  {
   "cell_type": "code",
   "execution_count": 9,
   "id": "e274869e",
   "metadata": {},
   "outputs": [
    {
     "data": {
      "text/html": [
       "<div>\n",
       "<style scoped>\n",
       "    .dataframe tbody tr th:only-of-type {\n",
       "        vertical-align: middle;\n",
       "    }\n",
       "\n",
       "    .dataframe tbody tr th {\n",
       "        vertical-align: top;\n",
       "    }\n",
       "\n",
       "    .dataframe thead th {\n",
       "        text-align: right;\n",
       "    }\n",
       "</style>\n",
       "<table border=\"1\" class=\"dataframe\">\n",
       "  <thead>\n",
       "    <tr style=\"text-align: right;\">\n",
       "      <th></th>\n",
       "      <th>created</th>\n",
       "      <th>groupId</th>\n",
       "      <th>hostname</th>\n",
       "      <th>id</th>\n",
       "      <th>lastPing</th>\n",
       "      <th>links</th>\n",
       "      <th>port</th>\n",
       "      <th>replicaSetName</th>\n",
       "      <th>typeName</th>\n",
       "      <th>userAlias</th>\n",
       "      <th>version</th>\n",
       "    </tr>\n",
       "  </thead>\n",
       "  <tbody>\n",
       "    <tr>\n",
       "      <th>0</th>\n",
       "      <td>2021-10-15T05:58:36Z</td>\n",
       "      <td>5cc99cd879358e1a071da4a5</td>\n",
       "      <td>atlas-39m1v8-shard-00-00.pmezp.mongodb.net</td>\n",
       "      <td>atlas-39m1v8-shard-00-00.pmezp.mongodb.net:27017</td>\n",
       "      <td>2021-10-21T01:51:40Z</td>\n",
       "      <td>[{'href': 'https://cloud.mongodb.com/api/atlas...</td>\n",
       "      <td>27017</td>\n",
       "      <td>atlas-39m1v8-shard-0</td>\n",
       "      <td>REPLICA_SECONDARY</td>\n",
       "      <td>freedemo-shard-00-00.pmezp.mongodb.net</td>\n",
       "      <td>4.4.10</td>\n",
       "    </tr>\n",
       "    <tr>\n",
       "      <th>1</th>\n",
       "      <td>2021-10-15T05:58:36Z</td>\n",
       "      <td>5cc99cd879358e1a071da4a5</td>\n",
       "      <td>atlas-39m1v8-shard-00-01.pmezp.mongodb.net</td>\n",
       "      <td>atlas-39m1v8-shard-00-01.pmezp.mongodb.net:27017</td>\n",
       "      <td>2021-10-21T01:52:36Z</td>\n",
       "      <td>[{'href': 'https://cloud.mongodb.com/api/atlas...</td>\n",
       "      <td>27017</td>\n",
       "      <td>atlas-39m1v8-shard-0</td>\n",
       "      <td>REPLICA_PRIMARY</td>\n",
       "      <td>freedemo-shard-00-01.pmezp.mongodb.net</td>\n",
       "      <td>4.4.10</td>\n",
       "    </tr>\n",
       "    <tr>\n",
       "      <th>2</th>\n",
       "      <td>2021-10-15T05:58:36Z</td>\n",
       "      <td>5cc99cd879358e1a071da4a5</td>\n",
       "      <td>atlas-39m1v8-shard-00-02.pmezp.mongodb.net</td>\n",
       "      <td>atlas-39m1v8-shard-00-02.pmezp.mongodb.net:27017</td>\n",
       "      <td>2021-10-21T01:50:29Z</td>\n",
       "      <td>[{'href': 'https://cloud.mongodb.com/api/atlas...</td>\n",
       "      <td>27017</td>\n",
       "      <td>atlas-39m1v8-shard-0</td>\n",
       "      <td>REPLICA_SECONDARY</td>\n",
       "      <td>freedemo-shard-00-02.pmezp.mongodb.net</td>\n",
       "      <td>4.4.10</td>\n",
       "    </tr>\n",
       "    <tr>\n",
       "      <th>3</th>\n",
       "      <td>2021-10-21T01:51:54Z</td>\n",
       "      <td>5cc99cd879358e1a071da4a5</td>\n",
       "      <td>atlas-rvoilc-shard-00-00.pmezp.mongodb.net</td>\n",
       "      <td>atlas-rvoilc-shard-00-00.pmezp.mongodb.net:27017</td>\n",
       "      <td>2021-10-21T01:53:25Z</td>\n",
       "      <td>[{'href': 'https://cloud.mongodb.com/api/atlas...</td>\n",
       "      <td>27017</td>\n",
       "      <td>atlas-rvoilc-shard-0</td>\n",
       "      <td>REPLICA_SECONDARY</td>\n",
       "      <td>m10demo-shard-00-00.pmezp.mongodb.net</td>\n",
       "      <td>5.0.3</td>\n",
       "    </tr>\n",
       "    <tr>\n",
       "      <th>4</th>\n",
       "      <td>2021-10-21T01:51:54Z</td>\n",
       "      <td>5cc99cd879358e1a071da4a5</td>\n",
       "      <td>atlas-rvoilc-shard-00-01.pmezp.mongodb.net</td>\n",
       "      <td>atlas-rvoilc-shard-00-01.pmezp.mongodb.net:27017</td>\n",
       "      <td>2021-10-21T01:53:25Z</td>\n",
       "      <td>[{'href': 'https://cloud.mongodb.com/api/atlas...</td>\n",
       "      <td>27017</td>\n",
       "      <td>atlas-rvoilc-shard-0</td>\n",
       "      <td>REPLICA_SECONDARY</td>\n",
       "      <td>m10demo-shard-00-01.pmezp.mongodb.net</td>\n",
       "      <td>5.0.3</td>\n",
       "    </tr>\n",
       "    <tr>\n",
       "      <th>5</th>\n",
       "      <td>2021-10-21T01:51:54Z</td>\n",
       "      <td>5cc99cd879358e1a071da4a5</td>\n",
       "      <td>atlas-rvoilc-shard-00-02.pmezp.mongodb.net</td>\n",
       "      <td>atlas-rvoilc-shard-00-02.pmezp.mongodb.net:27017</td>\n",
       "      <td>2021-10-21T01:53:25Z</td>\n",
       "      <td>[{'href': 'https://cloud.mongodb.com/api/atlas...</td>\n",
       "      <td>27017</td>\n",
       "      <td>atlas-rvoilc-shard-0</td>\n",
       "      <td>REPLICA_PRIMARY</td>\n",
       "      <td>m10demo-shard-00-02.pmezp.mongodb.net</td>\n",
       "      <td>5.0.3</td>\n",
       "    </tr>\n",
       "  </tbody>\n",
       "</table>\n",
       "</div>"
      ],
      "text/plain": [
       "                created                   groupId  \\\n",
       "0  2021-10-15T05:58:36Z  5cc99cd879358e1a071da4a5   \n",
       "1  2021-10-15T05:58:36Z  5cc99cd879358e1a071da4a5   \n",
       "2  2021-10-15T05:58:36Z  5cc99cd879358e1a071da4a5   \n",
       "3  2021-10-21T01:51:54Z  5cc99cd879358e1a071da4a5   \n",
       "4  2021-10-21T01:51:54Z  5cc99cd879358e1a071da4a5   \n",
       "5  2021-10-21T01:51:54Z  5cc99cd879358e1a071da4a5   \n",
       "\n",
       "                                     hostname  \\\n",
       "0  atlas-39m1v8-shard-00-00.pmezp.mongodb.net   \n",
       "1  atlas-39m1v8-shard-00-01.pmezp.mongodb.net   \n",
       "2  atlas-39m1v8-shard-00-02.pmezp.mongodb.net   \n",
       "3  atlas-rvoilc-shard-00-00.pmezp.mongodb.net   \n",
       "4  atlas-rvoilc-shard-00-01.pmezp.mongodb.net   \n",
       "5  atlas-rvoilc-shard-00-02.pmezp.mongodb.net   \n",
       "\n",
       "                                                 id              lastPing  \\\n",
       "0  atlas-39m1v8-shard-00-00.pmezp.mongodb.net:27017  2021-10-21T01:51:40Z   \n",
       "1  atlas-39m1v8-shard-00-01.pmezp.mongodb.net:27017  2021-10-21T01:52:36Z   \n",
       "2  atlas-39m1v8-shard-00-02.pmezp.mongodb.net:27017  2021-10-21T01:50:29Z   \n",
       "3  atlas-rvoilc-shard-00-00.pmezp.mongodb.net:27017  2021-10-21T01:53:25Z   \n",
       "4  atlas-rvoilc-shard-00-01.pmezp.mongodb.net:27017  2021-10-21T01:53:25Z   \n",
       "5  atlas-rvoilc-shard-00-02.pmezp.mongodb.net:27017  2021-10-21T01:53:25Z   \n",
       "\n",
       "                                               links   port  \\\n",
       "0  [{'href': 'https://cloud.mongodb.com/api/atlas...  27017   \n",
       "1  [{'href': 'https://cloud.mongodb.com/api/atlas...  27017   \n",
       "2  [{'href': 'https://cloud.mongodb.com/api/atlas...  27017   \n",
       "3  [{'href': 'https://cloud.mongodb.com/api/atlas...  27017   \n",
       "4  [{'href': 'https://cloud.mongodb.com/api/atlas...  27017   \n",
       "5  [{'href': 'https://cloud.mongodb.com/api/atlas...  27017   \n",
       "\n",
       "         replicaSetName           typeName  \\\n",
       "0  atlas-39m1v8-shard-0  REPLICA_SECONDARY   \n",
       "1  atlas-39m1v8-shard-0    REPLICA_PRIMARY   \n",
       "2  atlas-39m1v8-shard-0  REPLICA_SECONDARY   \n",
       "3  atlas-rvoilc-shard-0  REPLICA_SECONDARY   \n",
       "4  atlas-rvoilc-shard-0  REPLICA_SECONDARY   \n",
       "5  atlas-rvoilc-shard-0    REPLICA_PRIMARY   \n",
       "\n",
       "                                userAlias version  \n",
       "0  freedemo-shard-00-00.pmezp.mongodb.net  4.4.10  \n",
       "1  freedemo-shard-00-01.pmezp.mongodb.net  4.4.10  \n",
       "2  freedemo-shard-00-02.pmezp.mongodb.net  4.4.10  \n",
       "3   m10demo-shard-00-00.pmezp.mongodb.net   5.0.3  \n",
       "4   m10demo-shard-00-01.pmezp.mongodb.net   5.0.3  \n",
       "5   m10demo-shard-00-02.pmezp.mongodb.net   5.0.3  "
      ]
     },
     "execution_count": 9,
     "metadata": {},
     "output_type": "execute_result"
    }
   ],
   "source": [
    "df=pd.DataFrame(results)\n",
    "df"
   ]
  },
  {
   "cell_type": "code",
   "execution_count": null,
   "id": "d70dcb97",
   "metadata": {},
   "outputs": [],
   "source": []
  }
 ],
 "metadata": {
  "kernelspec": {
   "display_name": "Python 3 (ipykernel)",
   "language": "python",
   "name": "python3"
  },
  "language_info": {
   "codemirror_mode": {
    "name": "ipython",
    "version": 3
   },
   "file_extension": ".py",
   "mimetype": "text/x-python",
   "name": "python",
   "nbconvert_exporter": "python",
   "pygments_lexer": "ipython3",
   "version": "3.7.6"
  }
 },
 "nbformat": 4,
 "nbformat_minor": 5
}
