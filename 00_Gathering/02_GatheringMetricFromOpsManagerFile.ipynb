{
 "cells": [
  {
   "cell_type": "code",
   "execution_count": 1,
   "id": "360b0a04",
   "metadata": {},
   "outputs": [],
   "source": [
    "import json\n",
    "import pandas as pd\n",
    "import numpy as np \n",
    "import requests\n",
    "from requests.auth import HTTPDigestAuth"
   ]
  },
  {
   "cell_type": "code",
   "execution_count": null,
   "id": "4e9c54c0",
   "metadata": {},
   "outputs": [],
   "source": [
    "#PUB_KEY=\"wmhpimjc\"\n",
    "#PRIVATE_KEY=\"00634500-6801-4399-8463-e94c09df6521\"\n",
    "#GROUP_ID=\"5cc99cd879358e1a071da4a5\"\\\n",
    "# curl -i -u \"{PUBLIC-KEY}:{PRIVATE-KEY}\"\n",
    "# --digest \"https://cloud.mongodb.com/api/atlas/v1.0/groups/{GROUP-ID}/processes/\n",
    "# atlas-39m1v8-shard-00-01.pmezp.mongodb.net:27017\n",
    "# measurements?granularity=PT1M&period=2H&pretty=true\"\n",
    "#RESOURCE_ID=\"atlas-rvoilc-shard-00-02.pmezp.mongodb.net:27017\"\n",
    "\n",
    "#BASE_URL=\"https://cloud.mongodb.com/api/atlas/v1.0/groups/\"\n",
    "#REQUESTS_URL=BASE_URL + GROUP_ID + \"/processes/\"+ RESOURCE_ID +\"/measurements?granularity=PT1M&period=PT1H\"\n",
    "#REQUESTS_URL"
   ]
  },
  {
   "cell_type": "code",
   "execution_count": null,
   "id": "bd6f3f95",
   "metadata": {},
   "outputs": [],
   "source": [
    "#response=requests.get(REQUESTS_URL, auth=HTTPDigestAuth(PUB_KEY, PRIVATE_KEY))"
   ]
  },
  {
   "cell_type": "code",
   "execution_count": null,
   "id": "cdcd1706",
   "metadata": {},
   "outputs": [],
   "source": [
    "#response.status_code "
   ]
  },
  {
   "cell_type": "code",
   "execution_count": null,
   "id": "3671d683",
   "metadata": {},
   "outputs": [],
   "source": [
    "#response.text"
   ]
  },
  {
   "cell_type": "code",
   "execution_count": 21,
   "id": "f5dcacf8",
   "metadata": {},
   "outputs": [],
   "source": [
    "#dict = json.loads(response.text)\n",
    "#dict\n",
    "file_path='/Users/kyudong.kim/works/analysis/status/'\n",
    "file_name='measure_0e57d4a8f70ae01f12f4e161538f26cc_PT10S_PT1M_20240608135825.json'\n",
    "full_path=file_path+file_name\n",
    "\n",
    "with open(full_path) as json_file:\n",
    "    dict = json.load(json_file)"
   ]
  },
  {
   "cell_type": "code",
   "execution_count": 23,
   "id": "5909433a",
   "metadata": {},
   "outputs": [],
   "source": [
    "results=dict['measurements']"
   ]
  },
  {
   "cell_type": "code",
   "execution_count": 25,
   "id": "93df46d8",
   "metadata": {},
   "outputs": [],
   "source": [
    "#results"
   ]
  },
  {
   "cell_type": "code",
   "execution_count": 27,
   "id": "5d88a94e",
   "metadata": {},
   "outputs": [
    {
     "data": {
      "text/html": [
       "<div>\n",
       "<style scoped>\n",
       "    .dataframe tbody tr th:only-of-type {\n",
       "        vertical-align: middle;\n",
       "    }\n",
       "\n",
       "    .dataframe tbody tr th {\n",
       "        vertical-align: top;\n",
       "    }\n",
       "\n",
       "    .dataframe thead th {\n",
       "        text-align: right;\n",
       "    }\n",
       "</style>\n",
       "<table border=\"1\" class=\"dataframe\">\n",
       "  <thead>\n",
       "    <tr style=\"text-align: right;\">\n",
       "      <th></th>\n",
       "      <th>dataPoints</th>\n",
       "      <th>name</th>\n",
       "      <th>units</th>\n",
       "    </tr>\n",
       "  </thead>\n",
       "  <tbody>\n",
       "    <tr>\n",
       "      <th>0</th>\n",
       "      <td>[{'timestamp': '2024-06-08T13:57:28Z', 'value'...</td>\n",
       "      <td>ASSERT_REGULAR</td>\n",
       "      <td>SCALAR_PER_SECOND</td>\n",
       "    </tr>\n",
       "    <tr>\n",
       "      <th>1</th>\n",
       "      <td>[{'timestamp': '2024-06-08T13:57:28Z', 'value'...</td>\n",
       "      <td>ASSERT_WARNING</td>\n",
       "      <td>SCALAR_PER_SECOND</td>\n",
       "    </tr>\n",
       "    <tr>\n",
       "      <th>2</th>\n",
       "      <td>[{'timestamp': '2024-06-08T13:57:28Z', 'value'...</td>\n",
       "      <td>ASSERT_MSG</td>\n",
       "      <td>SCALAR_PER_SECOND</td>\n",
       "    </tr>\n",
       "    <tr>\n",
       "      <th>3</th>\n",
       "      <td>[{'timestamp': '2024-06-08T13:57:28Z', 'value'...</td>\n",
       "      <td>ASSERT_USER</td>\n",
       "      <td>SCALAR_PER_SECOND</td>\n",
       "    </tr>\n",
       "    <tr>\n",
       "      <th>4</th>\n",
       "      <td>[{'timestamp': '2024-06-08T13:57:28Z', 'value'...</td>\n",
       "      <td>CACHE_BYTES_READ_INTO</td>\n",
       "      <td>BYTES_PER_SECOND</td>\n",
       "    </tr>\n",
       "    <tr>\n",
       "      <th>...</th>\n",
       "      <td>...</td>\n",
       "      <td>...</td>\n",
       "      <td>...</td>\n",
       "    </tr>\n",
       "    <tr>\n",
       "      <th>129</th>\n",
       "      <td>[{'timestamp': '2024-06-08T13:57:28Z', 'value'...</td>\n",
       "      <td>MAX_SYSTEM_MEMORY_SHARED</td>\n",
       "      <td>KILOBYTES</td>\n",
       "    </tr>\n",
       "    <tr>\n",
       "      <th>130</th>\n",
       "      <td>[{'timestamp': '2024-06-08T13:57:28Z', 'value'...</td>\n",
       "      <td>MAX_SYSTEM_MEMORY_CACHED</td>\n",
       "      <td>KILOBYTES</td>\n",
       "    </tr>\n",
       "    <tr>\n",
       "      <th>131</th>\n",
       "      <td>[{'timestamp': '2024-06-08T13:57:28Z', 'value'...</td>\n",
       "      <td>MAX_SYSTEM_MEMORY_BUFFERS</td>\n",
       "      <td>KILOBYTES</td>\n",
       "    </tr>\n",
       "    <tr>\n",
       "      <th>132</th>\n",
       "      <td>[{'timestamp': '2024-06-08T13:57:28Z', 'value'...</td>\n",
       "      <td>MAX_SWAP_USAGE_USED</td>\n",
       "      <td>KILOBYTES</td>\n",
       "    </tr>\n",
       "    <tr>\n",
       "      <th>133</th>\n",
       "      <td>[{'timestamp': '2024-06-08T13:57:28Z', 'value'...</td>\n",
       "      <td>MAX_SWAP_USAGE_FREE</td>\n",
       "      <td>KILOBYTES</td>\n",
       "    </tr>\n",
       "  </tbody>\n",
       "</table>\n",
       "<p>134 rows × 3 columns</p>\n",
       "</div>"
      ],
      "text/plain": [
       "                                            dataPoints  \\\n",
       "0    [{'timestamp': '2024-06-08T13:57:28Z', 'value'...   \n",
       "1    [{'timestamp': '2024-06-08T13:57:28Z', 'value'...   \n",
       "2    [{'timestamp': '2024-06-08T13:57:28Z', 'value'...   \n",
       "3    [{'timestamp': '2024-06-08T13:57:28Z', 'value'...   \n",
       "4    [{'timestamp': '2024-06-08T13:57:28Z', 'value'...   \n",
       "..                                                 ...   \n",
       "129  [{'timestamp': '2024-06-08T13:57:28Z', 'value'...   \n",
       "130  [{'timestamp': '2024-06-08T13:57:28Z', 'value'...   \n",
       "131  [{'timestamp': '2024-06-08T13:57:28Z', 'value'...   \n",
       "132  [{'timestamp': '2024-06-08T13:57:28Z', 'value'...   \n",
       "133  [{'timestamp': '2024-06-08T13:57:28Z', 'value'...   \n",
       "\n",
       "                          name              units  \n",
       "0               ASSERT_REGULAR  SCALAR_PER_SECOND  \n",
       "1               ASSERT_WARNING  SCALAR_PER_SECOND  \n",
       "2                   ASSERT_MSG  SCALAR_PER_SECOND  \n",
       "3                  ASSERT_USER  SCALAR_PER_SECOND  \n",
       "4        CACHE_BYTES_READ_INTO   BYTES_PER_SECOND  \n",
       "..                         ...                ...  \n",
       "129   MAX_SYSTEM_MEMORY_SHARED          KILOBYTES  \n",
       "130   MAX_SYSTEM_MEMORY_CACHED          KILOBYTES  \n",
       "131  MAX_SYSTEM_MEMORY_BUFFERS          KILOBYTES  \n",
       "132        MAX_SWAP_USAGE_USED          KILOBYTES  \n",
       "133        MAX_SWAP_USAGE_FREE          KILOBYTES  \n",
       "\n",
       "[134 rows x 3 columns]"
      ]
     },
     "execution_count": 27,
     "metadata": {},
     "output_type": "execute_result"
    }
   ],
   "source": [
    "df=pd.DataFrame(results)\n",
    "df"
   ]
  },
  {
   "cell_type": "code",
   "execution_count": 29,
   "id": "28e19523",
   "metadata": {},
   "outputs": [
    {
     "data": {
      "text/plain": [
       "Index(['dataPoints', 'name', 'units'], dtype='object')"
      ]
     },
     "execution_count": 29,
     "metadata": {},
     "output_type": "execute_result"
    }
   ],
   "source": [
    "df.keys()"
   ]
  },
  {
   "cell_type": "code",
   "execution_count": 31,
   "id": "6fa6d1bf",
   "metadata": {},
   "outputs": [
    {
     "data": {
      "text/plain": [
       "array(['ASSERT_REGULAR', 'ASSERT_WARNING', 'ASSERT_MSG', 'ASSERT_USER',\n",
       "       'CACHE_BYTES_READ_INTO', 'CACHE_BYTES_WRITTEN_FROM',\n",
       "       'CACHE_DIRTY_BYTES', 'CACHE_USED_BYTES', 'CONNECTIONS',\n",
       "       'CURSORS_TOTAL_OPEN', 'CURSORS_TOTAL_TIMED_OUT',\n",
       "       'DB_STORAGE_TOTAL', 'DB_DATA_SIZE_TOTAL',\n",
       "       'DB_DATA_SIZE_TOTAL_WO_SYSTEM', 'DB_INDEX_SIZE_TOTAL',\n",
       "       'DOCUMENT_METRICS_RETURNED', 'DOCUMENT_METRICS_INSERTED',\n",
       "       'DOCUMENT_METRICS_UPDATED', 'DOCUMENT_METRICS_DELETED',\n",
       "       'EXTRA_INFO_PAGE_FAULTS', 'GLOBAL_LOCK_CURRENT_QUEUE_TOTAL',\n",
       "       'GLOBAL_LOCK_CURRENT_QUEUE_READERS',\n",
       "       'GLOBAL_LOCK_CURRENT_QUEUE_WRITERS', 'MEMORY_RESIDENT',\n",
       "       'MEMORY_VIRTUAL', 'MEMORY_MAPPED', 'NETWORK_BYTES_IN',\n",
       "       'NETWORK_BYTES_OUT', 'NETWORK_NUM_REQUESTS', 'OPCOUNTER_CMD',\n",
       "       'OPCOUNTER_QUERY', 'OPCOUNTER_UPDATE', 'OPCOUNTER_DELETE',\n",
       "       'OPCOUNTER_GETMORE', 'OPCOUNTER_INSERT', 'OPCOUNTER_REPL_CMD',\n",
       "       'OPCOUNTER_REPL_UPDATE', 'OPCOUNTER_REPL_DELETE',\n",
       "       'OPCOUNTER_REPL_INSERT', 'OPERATIONS_SCAN_AND_ORDER',\n",
       "       'OP_EXECUTION_TIME_READS', 'OP_EXECUTION_TIME_WRITES',\n",
       "       'OP_EXECUTION_TIME_COMMANDS', 'OPLOG_SLAVE_LAG_MASTER_TIME',\n",
       "       'OPLOG_REPLICATION_LAG_TIME', 'OPLOG_MASTER_TIME',\n",
       "       'OPLOG_MASTER_LAG_TIME_DIFF', 'OPLOG_RATE_GB_PER_HOUR',\n",
       "       'QUERY_EXECUTOR_SCANNED', 'QUERY_EXECUTOR_SCANNED_OBJECTS',\n",
       "       'QUERY_TARGETING_SCANNED_PER_RETURNED',\n",
       "       'QUERY_TARGETING_SCANNED_OBJECTS_PER_RETURNED',\n",
       "       'TICKETS_AVAILABLE_READS', 'TICKETS_AVAILABLE_WRITE',\n",
       "       'PROCESS_CPU_USER', 'PROCESS_CPU_KERNEL',\n",
       "       'PROCESS_CPU_CHILDREN_USER', 'PROCESS_CPU_CHILDREN_KERNEL',\n",
       "       'PROCESS_NORMALIZED_CPU_USER', 'PROCESS_NORMALIZED_CPU_KERNEL',\n",
       "       'PROCESS_NORMALIZED_CPU_CHILDREN_USER',\n",
       "       'PROCESS_NORMALIZED_CPU_CHILDREN_KERNEL', 'MAX_PROCESS_CPU_USER',\n",
       "       'MAX_PROCESS_CPU_KERNEL', 'MAX_PROCESS_CPU_CHILDREN_USER',\n",
       "       'MAX_PROCESS_CPU_CHILDREN_KERNEL',\n",
       "       'MAX_PROCESS_NORMALIZED_CPU_USER',\n",
       "       'MAX_PROCESS_NORMALIZED_CPU_KERNEL',\n",
       "       'MAX_PROCESS_NORMALIZED_CPU_CHILDREN_USER',\n",
       "       'MAX_PROCESS_NORMALIZED_CPU_CHILDREN_KERNEL',\n",
       "       'FTS_PROCESS_RESIDENT_MEMORY', 'FTS_PROCESS_VIRTUAL_MEMORY',\n",
       "       'FTS_PROCESS_SHARED_MEMORY', 'FTS_DISK_USAGE',\n",
       "       'FTS_PROCESS_CPU_USER', 'FTS_PROCESS_CPU_KERNEL',\n",
       "       'FTS_PROCESS_NORMALIZED_CPU_USER',\n",
       "       'FTS_PROCESS_NORMALIZED_CPU_KERNEL', 'SYSTEM_CPU_USER',\n",
       "       'SYSTEM_CPU_KERNEL', 'SYSTEM_CPU_NICE', 'SYSTEM_CPU_IOWAIT',\n",
       "       'SYSTEM_CPU_IRQ', 'SYSTEM_CPU_SOFTIRQ', 'SYSTEM_CPU_GUEST',\n",
       "       'SYSTEM_CPU_STEAL', 'SYSTEM_NORMALIZED_CPU_USER',\n",
       "       'SYSTEM_NORMALIZED_CPU_KERNEL', 'SYSTEM_NORMALIZED_CPU_NICE',\n",
       "       'SYSTEM_NORMALIZED_CPU_IOWAIT', 'SYSTEM_NORMALIZED_CPU_IRQ',\n",
       "       'SYSTEM_NORMALIZED_CPU_SOFTIRQ', 'SYSTEM_NORMALIZED_CPU_GUEST',\n",
       "       'SYSTEM_NORMALIZED_CPU_STEAL', 'SYSTEM_NETWORK_IN',\n",
       "       'SYSTEM_NETWORK_OUT', 'SWAP_IO_IN', 'SWAP_IO_OUT',\n",
       "       'MAX_SYSTEM_CPU_USER', 'MAX_SYSTEM_CPU_KERNEL',\n",
       "       'MAX_SYSTEM_CPU_NICE', 'MAX_SYSTEM_CPU_IOWAIT',\n",
       "       'MAX_SYSTEM_CPU_IRQ', 'MAX_SYSTEM_CPU_SOFTIRQ',\n",
       "       'MAX_SYSTEM_CPU_GUEST', 'MAX_SYSTEM_CPU_STEAL',\n",
       "       'MAX_SYSTEM_NORMALIZED_CPU_USER',\n",
       "       'MAX_SYSTEM_NORMALIZED_CPU_KERNEL',\n",
       "       'MAX_SYSTEM_NORMALIZED_CPU_NICE',\n",
       "       'MAX_SYSTEM_NORMALIZED_CPU_IOWAIT',\n",
       "       'MAX_SYSTEM_NORMALIZED_CPU_IRQ',\n",
       "       'MAX_SYSTEM_NORMALIZED_CPU_SOFTIRQ',\n",
       "       'MAX_SYSTEM_NORMALIZED_CPU_GUEST',\n",
       "       'MAX_SYSTEM_NORMALIZED_CPU_STEAL', 'MAX_SYSTEM_NETWORK_IN',\n",
       "       'MAX_SYSTEM_NETWORK_OUT', 'MAX_SWAP_IO_IN', 'MAX_SWAP_IO_OUT',\n",
       "       'SYSTEM_MEMORY_USED', 'SYSTEM_MEMORY_AVAILABLE',\n",
       "       'SYSTEM_MEMORY_FREE', 'SYSTEM_MEMORY_SHARED',\n",
       "       'SYSTEM_MEMORY_CACHED', 'SYSTEM_MEMORY_BUFFERS', 'SWAP_USAGE_USED',\n",
       "       'SWAP_USAGE_FREE', 'MAX_SYSTEM_MEMORY_USED',\n",
       "       'MAX_SYSTEM_MEMORY_AVAILABLE', 'MAX_SYSTEM_MEMORY_FREE',\n",
       "       'MAX_SYSTEM_MEMORY_SHARED', 'MAX_SYSTEM_MEMORY_CACHED',\n",
       "       'MAX_SYSTEM_MEMORY_BUFFERS', 'MAX_SWAP_USAGE_USED',\n",
       "       'MAX_SWAP_USAGE_FREE'], dtype=object)"
      ]
     },
     "execution_count": 31,
     "metadata": {},
     "output_type": "execute_result"
    }
   ],
   "source": [
    "names=df['name'].unique()\n",
    "names"
   ]
  },
  {
   "cell_type": "code",
   "execution_count": 33,
   "id": "a52ff6fd",
   "metadata": {},
   "outputs": [
    {
     "data": {
      "text/plain": [
       "array(['SCALAR_PER_SECOND', 'BYTES_PER_SECOND', 'BYTES', 'SCALAR',\n",
       "       'MEGABYTES', 'MILLISECONDS', 'SECONDS', 'GIGABYTES_PER_HOUR',\n",
       "       'PERCENT', 'KILOBYTES'], dtype=object)"
      ]
     },
     "execution_count": 33,
     "metadata": {},
     "output_type": "execute_result"
    }
   ],
   "source": [
    "units=df['units'].unique()\n",
    "units"
   ]
  },
  {
   "cell_type": "code",
   "execution_count": 35,
   "id": "44381333",
   "metadata": {},
   "outputs": [],
   "source": [
    "#GATHER_LIST=['CACHE_BYTES_READ_INTO', 'CACHE_BYTES_WRITTEN_FROM', 'CACHE_DIRTY_BYTES', 'CACHE_USED_BYTES', 'CONNECTIONS', 'DB_STORAGE_TOTAL', 'DB_DATA_SIZE_TOTAL', 'DB_INDEX_SIZE_TOTAL', 'DOCUMENT_METRICS_RETURNED', 'DOCUMENT_METRICS_INSERTED', 'DOCUMENT_METRICS_UPDATED', 'DOCUMENT_METRICS_DELETED', 'MEMORY_RESIDENT', 'MEMORY_VIRTUAL', 'MEMORY_MAPPED', 'NETWORK_BYTES_IN', 'NETWORK_BYTES_OUT', 'NETWORK_NUM_REQUESTS', 'OPCOUNTER_CMD', 'OPCOUNTER_QUERY', 'OPCOUNTER_UPDATE', 'OPCOUNTER_DELETE', 'OPCOUNTER_GETMORE', 'OPCOUNTER_INSERT', 'OPCOUNTER_REPL_CMD', 'OPCOUNTER_REPL_UPDATE', 'OPCOUNTER_REPL_DELETE', 'OPCOUNTER_REPL_INSERT', 'OPERATIONS_SCAN_AND_ORDER', 'OP_EXECUTION_TIME_READS', 'OP_EXECUTION_TIME_WRITES', 'OP_EXECUTION_TIME_COMMANDS', 'OPLOG_MASTER_TIME', 'OPLOG_RATE_GB_PER_HOUR', 'TICKETS_AVAILABLE_READS', 'TICKETS_AVAILABLE_WRITE', 'PROCESS_CPU_USER', 'PROCESS_CPU_KERNEL', 'MAX_PROCESS_CPU_USER', 'MAX_PROCESS_CPU_KERNEL', 'SYSTEM_CPU_USER', 'SYSTEM_CPU_KERNEL', 'SYSTEM_CPU_NICE', 'SYSTEM_CPU_IOWAIT', 'SYSTEM_CPU_IRQ', 'SYSTEM_CPU_SOFTIRQ', 'SYSTEM_CPU_GUEST', 'SYSTEM_CPU_STEAL', 'SYSTEM_NORMALIZED_CPU_USER', 'SYSTEM_NORMALIZED_CPU_KERNEL', 'SYSTEM_NORMALIZED_CPU_NICE', 'SYSTEM_NORMALIZED_CPU_IOWAIT', 'SYSTEM_NORMALIZED_CPU_IRQ', 'SYSTEM_NORMALIZED_CPU_SOFTIRQ', 'SYSTEM_NORMALIZED_CPU_GUEST', 'SYSTEM_NORMALIZED_CPU_STEAL', 'SYSTEM_NETWORK_IN', 'SYSTEM_NETWORK_OUT', 'SWAP_IO_IN', 'SWAP_IO_OUT', 'MAX_SYSTEM_CPU_USER', 'MAX_SYSTEM_CPU_KERNEL', 'MAX_SYSTEM_CPU_NICE', 'MAX_SYSTEM_CPU_IOWAIT', 'MAX_SYSTEM_CPU_IRQ', 'MAX_SYSTEM_CPU_SOFTIRQ', 'MAX_SYSTEM_CPU_GUEST', 'MAX_SYSTEM_CPU_STEAL', 'MAX_SYSTEM_NETWORK_IN', 'MAX_SYSTEM_NETWORK_OUT', 'MAX_SWAP_IO_IN', 'MAX_SWAP_IO_OUT', 'SYSTEM_MEMORY_USED', 'SYSTEM_MEMORY_AVAILABLE', 'SYSTEM_MEMORY_FREE', 'SYSTEM_MEMORY_SHARED', 'SYSTEM_MEMORY_CACHED', 'SYSTEM_MEMORY_BUFFERS', 'SWAP_USAGE_USED', 'SWAP_USAGE_FREE', 'MAX_SYSTEM_MEMORY_USED', 'MAX_SYSTEM_MEMORY_AVAILABLE', 'MAX_SYSTEM_MEMORY_FREE', 'MAX_SYSTEM_MEMORY_SHARED', 'MAX_SYSTEM_MEMORY_CACHED', 'MAX_SYSTEM_MEMORY_BUFFERS', 'MAX_SWAP_USAGE_USED', 'MAX_SWAP_USAGE_FREE']\n",
    "\n",
    "GATHER_LIST=[\n",
    "'OPCOUNTER_CMD','OPCOUNTER_QUERY','OPCOUNTER_UPDATE','OPCOUNTER_DELETE','OPCOUNTER_GETMORE','OPCOUNTER_INSERT','CONNECTIONS',\n",
    "'OP_EXECUTION_TIME_READS', 'OP_EXECUTION_TIME_WRITES',\n",
    "'NETWORK_BYTES_IN','NETWORK_BYTES_OUT',\n",
    "'CACHE_USED_BYTES','SYSTEM_MEMORY_USED'\n",
    "]\n",
    "\n",
    "def save_to_excel(tab_name,df_sheet,dataPoints,writer):\n",
    "    timestamps=[]\n",
    "    values=[]\n",
    "    for dataPoint in dataPoints:\n",
    "        if dataPoint['value'] != None:\n",
    "            timestamps.append(dataPoint['timestamp'])\n",
    "            values.append(dataPoint['value'])\n",
    "    save_df=pd.DataFrame(values,timestamps)\n",
    "    save_df.to_excel(writer, sheet_name=tab_name)\n",
    "\n",
    "with pd.ExcelWriter('measurements_all.xlsx') as writer:\n",
    "    for result in results:\n",
    "        #print( result['name'] + '/' + result['units'])\n",
    "        if result['name'] in GATHER_LIST:\n",
    "            save_to_excel(result['name'],result['name'] + '_' + result['units'],result['dataPoints'],writer)"
   ]
  },
  {
   "cell_type": "code",
   "execution_count": null,
   "id": "7b545a1f-3602-488f-92d3-e2db772dd664",
   "metadata": {},
   "outputs": [],
   "source": []
  }
 ],
 "metadata": {
  "kernelspec": {
   "display_name": "Python 3 (ipykernel)",
   "language": "python",
   "name": "python3"
  },
  "language_info": {
   "codemirror_mode": {
    "name": "ipython",
    "version": 3
   },
   "file_extension": ".py",
   "mimetype": "text/x-python",
   "name": "python",
   "nbconvert_exporter": "python",
   "pygments_lexer": "ipython3",
   "version": "3.11.7"
  }
 },
 "nbformat": 4,
 "nbformat_minor": 5
}
