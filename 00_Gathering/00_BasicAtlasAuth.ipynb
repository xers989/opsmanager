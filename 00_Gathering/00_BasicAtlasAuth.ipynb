{
 "cells": [
  {
   "cell_type": "code",
   "execution_count": 1,
   "id": "360b0a04",
   "metadata": {},
   "outputs": [],
   "source": [
    "import json\n",
    "import requests\n",
    "from requests.auth import HTTPDigestAuth"
   ]
  },
  {
   "cell_type": "code",
   "execution_count": 2,
   "id": "4e9c54c0",
   "metadata": {},
   "outputs": [
    {
     "data": {
      "text/plain": [
       "'https://cloud.mongodb.com/api/atlas/v1.0/'"
      ]
     },
     "execution_count": 2,
     "metadata": {},
     "output_type": "execute_result"
    }
   ],
   "source": [
    "PUB_KEY=\"wmhpimjc\"\n",
    "PRIVATE_KEY=\"00634500-6801-4399-8463-e94c09df6521\"\n",
    "GROUP_ID=\"5cc99cd879358e1a071da4a5\"\n",
    "\n",
    "# curl -i -u \"{PUBLIC-KEY}:{PRIVATE-KEY}\"\n",
    "# --digest \"https://cloud.mongodb.com/api/atlas/v1.0/groups/{GROUP-ID}/processes?pretty=true\"\n",
    "BASE_URL=\"https://cloud.mongodb.com/api/atlas/v1.0/\"\n",
    "REQUESTS_URL=BASE_URL# + GROUP_ID + \"/processes?pretty=true\"\n",
    "REQUESTS_URL"
   ]
  },
  {
   "cell_type": "code",
   "execution_count": 3,
   "id": "bd6f3f95",
   "metadata": {},
   "outputs": [],
   "source": [
    "response=requests.get(REQUESTS_URL, auth=HTTPDigestAuth(PUB_KEY, PRIVATE_KEY))"
   ]
  },
  {
   "cell_type": "code",
   "execution_count": 4,
   "id": "cdcd1706",
   "metadata": {},
   "outputs": [
    {
     "data": {
      "text/plain": [
       "200"
      ]
     },
     "execution_count": 4,
     "metadata": {},
     "output_type": "execute_result"
    }
   ],
   "source": [
    "response.status_code "
   ]
  },
  {
   "cell_type": "code",
   "execution_count": 5,
   "id": "3671d683",
   "metadata": {},
   "outputs": [
    {
     "data": {
      "text/plain": [
       "'{\"appName\":\"MongoDB Atlas\",\"build\":\"cd62b039dcd0d923d27b66a484e1e96673d41973\",\"links\":[{\"href\":\"https://cloud.mongodb.com/api/atlas/v1.0\",\"rel\":\"self\"},{\"href\":\"https://cloud.mongodb.com/api/atlas/v1.0/orgs/5a05659cd383ad74f1cc1047/apiKeys/616780c4ddddc732ea16327d\",\"rel\":\"http://cloud.mongodb.com/apiKeys\"}],\"throttling\":false}'"
      ]
     },
     "execution_count": 5,
     "metadata": {},
     "output_type": "execute_result"
    }
   ],
   "source": [
    "response.text"
   ]
  },
  {
   "cell_type": "code",
   "execution_count": 6,
   "id": "f5dcacf8",
   "metadata": {},
   "outputs": [
    {
     "data": {
      "text/plain": [
       "{'appName': 'MongoDB Atlas',\n",
       " 'build': 'cd62b039dcd0d923d27b66a484e1e96673d41973',\n",
       " 'links': [{'href': 'https://cloud.mongodb.com/api/atlas/v1.0', 'rel': 'self'},\n",
       "  {'href': 'https://cloud.mongodb.com/api/atlas/v1.0/orgs/5a05659cd383ad74f1cc1047/apiKeys/616780c4ddddc732ea16327d',\n",
       "   'rel': 'http://cloud.mongodb.com/apiKeys'}],\n",
       " 'throttling': False}"
      ]
     },
     "execution_count": 6,
     "metadata": {},
     "output_type": "execute_result"
    }
   ],
   "source": [
    "dict = json.loads(response.text)\n",
    "dict"
   ]
  }
 ],
 "metadata": {
  "kernelspec": {
   "display_name": "Python 3 (ipykernel)",
   "language": "python",
   "name": "python3"
  },
  "language_info": {
   "codemirror_mode": {
    "name": "ipython",
    "version": 3
   },
   "file_extension": ".py",
   "mimetype": "text/x-python",
   "name": "python",
   "nbconvert_exporter": "python",
   "pygments_lexer": "ipython3",
   "version": "3.7.6"
  }
 },
 "nbformat": 4,
 "nbformat_minor": 5
}
