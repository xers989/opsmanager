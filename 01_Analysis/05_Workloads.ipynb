{
 "cells": [
  {
   "cell_type": "code",
   "execution_count": 1,
   "id": "360b0a04",
   "metadata": {},
   "outputs": [
    {
     "name": "stderr",
     "output_type": "stream",
     "text": [
      "/Users/marantz/.pyenv/versions/3.7.6/lib/python3.7/site-packages/pandas/compat/__init__.py:124: UserWarning: Could not import the lzma module. Your installed Python is incomplete. Attempting to use lzma compression will result in a RuntimeError.\n",
      "  warnings.warn(msg)\n"
     ]
    }
   ],
   "source": [
    "import json\n",
    "import pandas as pd\n",
    "import numpy as np \n",
    "import requests\n",
    "import seaborn as sns\n",
    "from datetime import datetime\n",
    "from requests.auth import HTTPDigestAuth\n",
    "from matplotlib import pyplot as plt"
   ]
  },
  {
   "cell_type": "code",
   "execution_count": 2,
   "id": "4e9c54c0",
   "metadata": {},
   "outputs": [],
   "source": [
    "# PUB_KEY=\"wmhpimjc\"\n",
    "# PRIVATE_KEY=\"00634500-6801-4399-8463-e94c09df6521\"\n",
    "# GROUP_ID=\"5cc99cd879358e1a071da4a5\"\\\n",
    "# # curl -i -u \"{PUBLIC-KEY}:{PRIVATE-KEY}\"\n",
    "# # --digest \"https://cloud.mongodb.com/api/atlas/v1.0/groups/{GROUP-ID}/processes/\n",
    "# # atlas-39m1v8-shard-00-01.pmezp.mongodb.net:27017\n",
    "# # measurements?granularity=PT1M&period=2H&pretty=true\"\n",
    "# RESOURCE_ID=\"atlas-rvoilc-shard-00-02.pmezp.mongodb.net:27017\"\n",
    "\n",
    "# BASE_URL=\"https://cloud.mongodb.com/api/atlas/v1.0/groups/\"\n",
    "# REQUESTS_URL=BASE_URL + GROUP_ID + \"/processes/\"+ RESOURCE_ID +\"/measurements?granularity=PT1M&period=PT1H\"\n",
    "# REQUESTS_URL"
   ]
  },
  {
   "cell_type": "code",
   "execution_count": 3,
   "id": "bd6f3f95",
   "metadata": {},
   "outputs": [],
   "source": [
    "# response=requests.get(REQUESTS_URL, auth=HTTPDigestAuth(PUB_KEY, PRIVATE_KEY))"
   ]
  },
  {
   "cell_type": "code",
   "execution_count": 4,
   "id": "cdcd1706",
   "metadata": {},
   "outputs": [],
   "source": [
    "# response.status_code "
   ]
  },
  {
   "cell_type": "code",
   "execution_count": 5,
   "id": "3671d683",
   "metadata": {},
   "outputs": [],
   "source": [
    "# response.text"
   ]
  },
  {
   "cell_type": "code",
   "execution_count": 6,
   "id": "f5dcacf8",
   "metadata": {},
   "outputs": [],
   "source": [
    "#dict = json.load(json_file)\n",
    "dict={}\n",
    "#file_path='/Users/marantz/Desktop/WORKs/KBS/mediafactory/metrics/'\n",
    "#file_name='status_mediafactory-prod-shard-00-00.edwaq.mongodb.net_27017_20211022160117.json'\n",
    "#file_name='status_mediafactory-prod-shard-00-01.edwaq.mongodb.net_27017_20211022141724.json'\n",
    "#file_name='status_mediafactory-prod-shard-00-03.edwaq.mongodb.net_27017_20211022160229.json'\n",
    "\n",
    "# file_path='/Users/marantz/Desktop/WORKs/KBS/kanal/metrics/'\n",
    "# file_name='status_kanal-prod-shard-00-01.ay12e.mongodb.net_27017_20211022002825.json'\n",
    "\n",
    "#file_path='/Users/marantz/Sources/ZX_Temp/'\n",
    "#file_name='status_mediafactory-prod-shard-00-01.edwaq.mongodb.net:27017_20211022141724.json'\n",
    "\n",
    "#file_path='/Users/marantz/Desktop/WORKs/Dreamus/METRICS/mongodb_status_1025/'\n",
    "#file_name='status_PT10S_PT24H_20211025145110.json'\n",
    "\n",
    "# M60\n",
    "file_path='/Users/marantz/Sources/ZX_Temp/script/'\n",
    "file_name='status_fourshards-shard-00-01.pmezp.mongodb.net_20211029092305.json'\n",
    "\n",
    "# M80\n",
    "file_path='/Users/marantz/Sources/ZX_Temp/script/'\n",
    "file_name='status_twoshards-shard-00-01.pmezp.mongodb.net_20211029092337.json'\n",
    "\n",
    "full_path=file_path+file_name\n",
    "\n",
    "with open(full_path) as json_file:\n",
    "    dict = json.load(json_file)"
   ]
  },
  {
   "cell_type": "code",
   "execution_count": 7,
   "id": "5909433a",
   "metadata": {},
   "outputs": [],
   "source": [
    "results=dict['measurements']"
   ]
  },
  {
   "cell_type": "code",
   "execution_count": 8,
   "id": "93df46d8",
   "metadata": {},
   "outputs": [],
   "source": [
    "#results"
   ]
  },
  {
   "cell_type": "code",
   "execution_count": 9,
   "id": "5d88a94e",
   "metadata": {},
   "outputs": [
    {
     "data": {
      "text/html": [
       "<div>\n",
       "<style scoped>\n",
       "    .dataframe tbody tr th:only-of-type {\n",
       "        vertical-align: middle;\n",
       "    }\n",
       "\n",
       "    .dataframe tbody tr th {\n",
       "        vertical-align: top;\n",
       "    }\n",
       "\n",
       "    .dataframe thead th {\n",
       "        text-align: right;\n",
       "    }\n",
       "</style>\n",
       "<table border=\"1\" class=\"dataframe\">\n",
       "  <thead>\n",
       "    <tr style=\"text-align: right;\">\n",
       "      <th></th>\n",
       "      <th>dataPoints</th>\n",
       "      <th>name</th>\n",
       "      <th>units</th>\n",
       "    </tr>\n",
       "  </thead>\n",
       "  <tbody>\n",
       "    <tr>\n",
       "      <th>0</th>\n",
       "      <td>[{'timestamp': '2021-10-29T00:08:52Z', 'value'...</td>\n",
       "      <td>ASSERT_REGULAR</td>\n",
       "      <td>SCALAR_PER_SECOND</td>\n",
       "    </tr>\n",
       "    <tr>\n",
       "      <th>1</th>\n",
       "      <td>[{'timestamp': '2021-10-29T00:08:52Z', 'value'...</td>\n",
       "      <td>ASSERT_WARNING</td>\n",
       "      <td>SCALAR_PER_SECOND</td>\n",
       "    </tr>\n",
       "    <tr>\n",
       "      <th>2</th>\n",
       "      <td>[{'timestamp': '2021-10-29T00:08:52Z', 'value'...</td>\n",
       "      <td>ASSERT_MSG</td>\n",
       "      <td>SCALAR_PER_SECOND</td>\n",
       "    </tr>\n",
       "    <tr>\n",
       "      <th>3</th>\n",
       "      <td>[{'timestamp': '2021-10-29T00:08:52Z', 'value'...</td>\n",
       "      <td>ASSERT_USER</td>\n",
       "      <td>SCALAR_PER_SECOND</td>\n",
       "    </tr>\n",
       "    <tr>\n",
       "      <th>4</th>\n",
       "      <td>[{'timestamp': '2021-10-29T00:08:52Z', 'value'...</td>\n",
       "      <td>CACHE_BYTES_READ_INTO</td>\n",
       "      <td>BYTES_PER_SECOND</td>\n",
       "    </tr>\n",
       "    <tr>\n",
       "      <th>...</th>\n",
       "      <td>...</td>\n",
       "      <td>...</td>\n",
       "      <td>...</td>\n",
       "    </tr>\n",
       "    <tr>\n",
       "      <th>126</th>\n",
       "      <td>[{'timestamp': '2021-10-29T00:05:45Z', 'value'...</td>\n",
       "      <td>MAX_SYSTEM_MEMORY_SHARED</td>\n",
       "      <td>KILOBYTES</td>\n",
       "    </tr>\n",
       "    <tr>\n",
       "      <th>127</th>\n",
       "      <td>[{'timestamp': '2021-10-29T00:05:45Z', 'value'...</td>\n",
       "      <td>MAX_SYSTEM_MEMORY_CACHED</td>\n",
       "      <td>KILOBYTES</td>\n",
       "    </tr>\n",
       "    <tr>\n",
       "      <th>128</th>\n",
       "      <td>[{'timestamp': '2021-10-29T00:05:45Z', 'value'...</td>\n",
       "      <td>MAX_SYSTEM_MEMORY_BUFFERS</td>\n",
       "      <td>KILOBYTES</td>\n",
       "    </tr>\n",
       "    <tr>\n",
       "      <th>129</th>\n",
       "      <td>[{'timestamp': '2021-10-29T00:05:45Z', 'value'...</td>\n",
       "      <td>MAX_SWAP_USAGE_USED</td>\n",
       "      <td>KILOBYTES</td>\n",
       "    </tr>\n",
       "    <tr>\n",
       "      <th>130</th>\n",
       "      <td>[{'timestamp': '2021-10-29T00:05:45Z', 'value'...</td>\n",
       "      <td>MAX_SWAP_USAGE_FREE</td>\n",
       "      <td>KILOBYTES</td>\n",
       "    </tr>\n",
       "  </tbody>\n",
       "</table>\n",
       "<p>131 rows × 3 columns</p>\n",
       "</div>"
      ],
      "text/plain": [
       "                                            dataPoints  \\\n",
       "0    [{'timestamp': '2021-10-29T00:08:52Z', 'value'...   \n",
       "1    [{'timestamp': '2021-10-29T00:08:52Z', 'value'...   \n",
       "2    [{'timestamp': '2021-10-29T00:08:52Z', 'value'...   \n",
       "3    [{'timestamp': '2021-10-29T00:08:52Z', 'value'...   \n",
       "4    [{'timestamp': '2021-10-29T00:08:52Z', 'value'...   \n",
       "..                                                 ...   \n",
       "126  [{'timestamp': '2021-10-29T00:05:45Z', 'value'...   \n",
       "127  [{'timestamp': '2021-10-29T00:05:45Z', 'value'...   \n",
       "128  [{'timestamp': '2021-10-29T00:05:45Z', 'value'...   \n",
       "129  [{'timestamp': '2021-10-29T00:05:45Z', 'value'...   \n",
       "130  [{'timestamp': '2021-10-29T00:05:45Z', 'value'...   \n",
       "\n",
       "                          name              units  \n",
       "0               ASSERT_REGULAR  SCALAR_PER_SECOND  \n",
       "1               ASSERT_WARNING  SCALAR_PER_SECOND  \n",
       "2                   ASSERT_MSG  SCALAR_PER_SECOND  \n",
       "3                  ASSERT_USER  SCALAR_PER_SECOND  \n",
       "4        CACHE_BYTES_READ_INTO   BYTES_PER_SECOND  \n",
       "..                         ...                ...  \n",
       "126   MAX_SYSTEM_MEMORY_SHARED          KILOBYTES  \n",
       "127   MAX_SYSTEM_MEMORY_CACHED          KILOBYTES  \n",
       "128  MAX_SYSTEM_MEMORY_BUFFERS          KILOBYTES  \n",
       "129        MAX_SWAP_USAGE_USED          KILOBYTES  \n",
       "130        MAX_SWAP_USAGE_FREE          KILOBYTES  \n",
       "\n",
       "[131 rows x 3 columns]"
      ]
     },
     "execution_count": 9,
     "metadata": {},
     "output_type": "execute_result"
    }
   ],
   "source": [
    "df=pd.DataFrame(results)\n",
    "df"
   ]
  },
  {
   "cell_type": "code",
   "execution_count": 10,
   "id": "6fa6d1bf",
   "metadata": {},
   "outputs": [
    {
     "data": {
      "text/plain": [
       "array(['ASSERT_REGULAR', 'ASSERT_WARNING', 'ASSERT_MSG', 'ASSERT_USER',\n",
       "       'CACHE_BYTES_READ_INTO', 'CACHE_BYTES_WRITTEN_FROM',\n",
       "       'CACHE_DIRTY_BYTES', 'CACHE_USED_BYTES', 'CONNECTIONS',\n",
       "       'CURSORS_TOTAL_OPEN', 'CURSORS_TOTAL_TIMED_OUT',\n",
       "       'DB_STORAGE_TOTAL', 'DB_DATA_SIZE_TOTAL',\n",
       "       'DB_DATA_SIZE_TOTAL_WO_SYSTEM', 'DB_INDEX_SIZE_TOTAL',\n",
       "       'DOCUMENT_METRICS_RETURNED', 'DOCUMENT_METRICS_INSERTED',\n",
       "       'DOCUMENT_METRICS_UPDATED', 'DOCUMENT_METRICS_DELETED',\n",
       "       'EXTRA_INFO_PAGE_FAULTS', 'GLOBAL_LOCK_CURRENT_QUEUE_TOTAL',\n",
       "       'GLOBAL_LOCK_CURRENT_QUEUE_READERS',\n",
       "       'GLOBAL_LOCK_CURRENT_QUEUE_WRITERS', 'MEMORY_RESIDENT',\n",
       "       'MEMORY_VIRTUAL', 'MEMORY_MAPPED', 'NETWORK_BYTES_IN',\n",
       "       'NETWORK_BYTES_OUT', 'NETWORK_NUM_REQUESTS', 'OPCOUNTER_CMD',\n",
       "       'OPCOUNTER_QUERY', 'OPCOUNTER_UPDATE', 'OPCOUNTER_DELETE',\n",
       "       'OPCOUNTER_GETMORE', 'OPCOUNTER_INSERT', 'OPCOUNTER_REPL_CMD',\n",
       "       'OPCOUNTER_REPL_UPDATE', 'OPCOUNTER_REPL_DELETE',\n",
       "       'OPCOUNTER_REPL_INSERT', 'OPERATIONS_SCAN_AND_ORDER',\n",
       "       'OP_EXECUTION_TIME_READS', 'OP_EXECUTION_TIME_WRITES',\n",
       "       'OP_EXECUTION_TIME_COMMANDS', 'OPLOG_MASTER_TIME',\n",
       "       'OPLOG_RATE_GB_PER_HOUR', 'QUERY_EXECUTOR_SCANNED',\n",
       "       'QUERY_EXECUTOR_SCANNED_OBJECTS',\n",
       "       'QUERY_TARGETING_SCANNED_PER_RETURNED',\n",
       "       'QUERY_TARGETING_SCANNED_OBJECTS_PER_RETURNED',\n",
       "       'TICKETS_AVAILABLE_READS', 'TICKETS_AVAILABLE_WRITE',\n",
       "       'PROCESS_CPU_USER', 'PROCESS_CPU_KERNEL',\n",
       "       'PROCESS_CPU_CHILDREN_USER', 'PROCESS_CPU_CHILDREN_KERNEL',\n",
       "       'PROCESS_NORMALIZED_CPU_USER', 'PROCESS_NORMALIZED_CPU_KERNEL',\n",
       "       'PROCESS_NORMALIZED_CPU_CHILDREN_USER',\n",
       "       'PROCESS_NORMALIZED_CPU_CHILDREN_KERNEL', 'MAX_PROCESS_CPU_USER',\n",
       "       'MAX_PROCESS_CPU_KERNEL', 'MAX_PROCESS_CPU_CHILDREN_USER',\n",
       "       'MAX_PROCESS_CPU_CHILDREN_KERNEL',\n",
       "       'MAX_PROCESS_NORMALIZED_CPU_USER',\n",
       "       'MAX_PROCESS_NORMALIZED_CPU_KERNEL',\n",
       "       'MAX_PROCESS_NORMALIZED_CPU_CHILDREN_USER',\n",
       "       'MAX_PROCESS_NORMALIZED_CPU_CHILDREN_KERNEL',\n",
       "       'FTS_PROCESS_RESIDENT_MEMORY', 'FTS_PROCESS_VIRTUAL_MEMORY',\n",
       "       'FTS_PROCESS_SHARED_MEMORY', 'FTS_DISK_USAGE',\n",
       "       'FTS_PROCESS_CPU_USER', 'FTS_PROCESS_CPU_KERNEL',\n",
       "       'FTS_PROCESS_NORMALIZED_CPU_USER',\n",
       "       'FTS_PROCESS_NORMALIZED_CPU_KERNEL', 'SYSTEM_CPU_USER',\n",
       "       'SYSTEM_CPU_KERNEL', 'SYSTEM_CPU_NICE', 'SYSTEM_CPU_IOWAIT',\n",
       "       'SYSTEM_CPU_IRQ', 'SYSTEM_CPU_SOFTIRQ', 'SYSTEM_CPU_GUEST',\n",
       "       'SYSTEM_CPU_STEAL', 'SYSTEM_NORMALIZED_CPU_USER',\n",
       "       'SYSTEM_NORMALIZED_CPU_KERNEL', 'SYSTEM_NORMALIZED_CPU_NICE',\n",
       "       'SYSTEM_NORMALIZED_CPU_IOWAIT', 'SYSTEM_NORMALIZED_CPU_IRQ',\n",
       "       'SYSTEM_NORMALIZED_CPU_SOFTIRQ', 'SYSTEM_NORMALIZED_CPU_GUEST',\n",
       "       'SYSTEM_NORMALIZED_CPU_STEAL', 'SYSTEM_NETWORK_IN',\n",
       "       'SYSTEM_NETWORK_OUT', 'SWAP_IO_IN', 'SWAP_IO_OUT',\n",
       "       'MAX_SYSTEM_CPU_USER', 'MAX_SYSTEM_CPU_KERNEL',\n",
       "       'MAX_SYSTEM_CPU_NICE', 'MAX_SYSTEM_CPU_IOWAIT',\n",
       "       'MAX_SYSTEM_CPU_IRQ', 'MAX_SYSTEM_CPU_SOFTIRQ',\n",
       "       'MAX_SYSTEM_CPU_GUEST', 'MAX_SYSTEM_CPU_STEAL',\n",
       "       'MAX_SYSTEM_NORMALIZED_CPU_USER',\n",
       "       'MAX_SYSTEM_NORMALIZED_CPU_KERNEL',\n",
       "       'MAX_SYSTEM_NORMALIZED_CPU_NICE',\n",
       "       'MAX_SYSTEM_NORMALIZED_CPU_IOWAIT',\n",
       "       'MAX_SYSTEM_NORMALIZED_CPU_IRQ',\n",
       "       'MAX_SYSTEM_NORMALIZED_CPU_SOFTIRQ',\n",
       "       'MAX_SYSTEM_NORMALIZED_CPU_GUEST',\n",
       "       'MAX_SYSTEM_NORMALIZED_CPU_STEAL', 'MAX_SYSTEM_NETWORK_IN',\n",
       "       'MAX_SYSTEM_NETWORK_OUT', 'MAX_SWAP_IO_IN', 'MAX_SWAP_IO_OUT',\n",
       "       'SYSTEM_MEMORY_USED', 'SYSTEM_MEMORY_AVAILABLE',\n",
       "       'SYSTEM_MEMORY_FREE', 'SYSTEM_MEMORY_SHARED',\n",
       "       'SYSTEM_MEMORY_CACHED', 'SYSTEM_MEMORY_BUFFERS', 'SWAP_USAGE_USED',\n",
       "       'SWAP_USAGE_FREE', 'MAX_SYSTEM_MEMORY_USED',\n",
       "       'MAX_SYSTEM_MEMORY_AVAILABLE', 'MAX_SYSTEM_MEMORY_FREE',\n",
       "       'MAX_SYSTEM_MEMORY_SHARED', 'MAX_SYSTEM_MEMORY_CACHED',\n",
       "       'MAX_SYSTEM_MEMORY_BUFFERS', 'MAX_SWAP_USAGE_USED',\n",
       "       'MAX_SWAP_USAGE_FREE'], dtype=object)"
      ]
     },
     "execution_count": 10,
     "metadata": {},
     "output_type": "execute_result"
    }
   ],
   "source": [
    "names=df['name'].unique()\n",
    "names"
   ]
  },
  {
   "cell_type": "code",
   "execution_count": 11,
   "id": "a52ff6fd",
   "metadata": {},
   "outputs": [
    {
     "data": {
      "text/plain": [
       "array(['SCALAR_PER_SECOND', 'BYTES_PER_SECOND', 'BYTES', 'SCALAR',\n",
       "       'MEGABYTES', 'MILLISECONDS', 'SECONDS', 'GIGABYTES_PER_HOUR',\n",
       "       'PERCENT', 'KILOBYTES'], dtype=object)"
      ]
     },
     "execution_count": 11,
     "metadata": {},
     "output_type": "execute_result"
    }
   ],
   "source": [
    "units=df['units'].unique()\n",
    "units"
   ]
  },
  {
   "cell_type": "code",
   "execution_count": 12,
   "id": "28e19523",
   "metadata": {},
   "outputs": [
    {
     "data": {
      "text/plain": [
       "Index(['dataPoints', 'name', 'units'], dtype='object')"
      ]
     },
     "execution_count": 12,
     "metadata": {},
     "output_type": "execute_result"
    }
   ],
   "source": [
    "df.keys()"
   ]
  },
  {
   "cell_type": "code",
   "execution_count": 48,
   "id": "44381333",
   "metadata": {},
   "outputs": [
    {
     "name": "stdout",
     "output_type": "stream",
     "text": [
      "data_count  : 2\n"
     ]
    },
    {
     "data": {
      "text/html": [
       "<div>\n",
       "<style scoped>\n",
       "    .dataframe tbody tr th:only-of-type {\n",
       "        vertical-align: middle;\n",
       "    }\n",
       "\n",
       "    .dataframe tbody tr th {\n",
       "        vertical-align: top;\n",
       "    }\n",
       "\n",
       "    .dataframe thead th {\n",
       "        text-align: right;\n",
       "    }\n",
       "</style>\n",
       "<table border=\"1\" class=\"dataframe\">\n",
       "  <thead>\n",
       "    <tr style=\"text-align: right;\">\n",
       "      <th></th>\n",
       "      <th>NETWORK_BYTES_IN</th>\n",
       "      <th>NETWORK_BYTES_OUT</th>\n",
       "    </tr>\n",
       "    <tr>\n",
       "      <th>time</th>\n",
       "      <th></th>\n",
       "      <th></th>\n",
       "    </tr>\n",
       "  </thead>\n",
       "  <tbody>\n",
       "    <tr>\n",
       "      <th>2021-10-29 00:09:09+00:00</th>\n",
       "      <td>5983.879635</td>\n",
       "      <td>68844.236969</td>\n",
       "    </tr>\n",
       "    <tr>\n",
       "      <th>2021-10-29 00:09:19+00:00</th>\n",
       "      <td>6618.900000</td>\n",
       "      <td>75664.100000</td>\n",
       "    </tr>\n",
       "    <tr>\n",
       "      <th>2021-10-29 00:09:29+00:00</th>\n",
       "      <td>3868.700000</td>\n",
       "      <td>64621.600000</td>\n",
       "    </tr>\n",
       "    <tr>\n",
       "      <th>2021-10-29 00:09:39+00:00</th>\n",
       "      <td>3897.500000</td>\n",
       "      <td>63341.600000</td>\n",
       "    </tr>\n",
       "    <tr>\n",
       "      <th>2021-10-29 00:09:49+00:00</th>\n",
       "      <td>6174.600000</td>\n",
       "      <td>76283.700000</td>\n",
       "    </tr>\n",
       "    <tr>\n",
       "      <th>...</th>\n",
       "      <td>...</td>\n",
       "      <td>...</td>\n",
       "    </tr>\n",
       "    <tr>\n",
       "      <th>2021-10-29 00:22:49+00:00</th>\n",
       "      <td>3671.300000</td>\n",
       "      <td>91376.000000</td>\n",
       "    </tr>\n",
       "    <tr>\n",
       "      <th>2021-10-29 00:22:59+00:00</th>\n",
       "      <td>6200.400000</td>\n",
       "      <td>114753.000000</td>\n",
       "    </tr>\n",
       "    <tr>\n",
       "      <th>2021-10-29 00:23:09+00:00</th>\n",
       "      <td>4075.100000</td>\n",
       "      <td>98136.500000</td>\n",
       "    </tr>\n",
       "    <tr>\n",
       "      <th>2021-10-29 00:23:19+00:00</th>\n",
       "      <td>8100.800000</td>\n",
       "      <td>104409.600000</td>\n",
       "    </tr>\n",
       "    <tr>\n",
       "      <th>2021-10-29 00:23:29+00:00</th>\n",
       "      <td>6386.800000</td>\n",
       "      <td>116345.400000</td>\n",
       "    </tr>\n",
       "  </tbody>\n",
       "</table>\n",
       "<p>87 rows × 2 columns</p>\n",
       "</div>"
      ],
      "text/plain": [
       "                           NETWORK_BYTES_IN  NETWORK_BYTES_OUT\n",
       "time                                                          \n",
       "2021-10-29 00:09:09+00:00       5983.879635       68844.236969\n",
       "2021-10-29 00:09:19+00:00       6618.900000       75664.100000\n",
       "2021-10-29 00:09:29+00:00       3868.700000       64621.600000\n",
       "2021-10-29 00:09:39+00:00       3897.500000       63341.600000\n",
       "2021-10-29 00:09:49+00:00       6174.600000       76283.700000\n",
       "...                                     ...                ...\n",
       "2021-10-29 00:22:49+00:00       3671.300000       91376.000000\n",
       "2021-10-29 00:22:59+00:00       6200.400000      114753.000000\n",
       "2021-10-29 00:23:09+00:00       4075.100000       98136.500000\n",
       "2021-10-29 00:23:19+00:00       8100.800000      104409.600000\n",
       "2021-10-29 00:23:29+00:00       6386.800000      116345.400000\n",
       "\n",
       "[87 rows x 2 columns]"
      ]
     },
     "execution_count": 48,
     "metadata": {},
     "output_type": "execute_result"
    }
   ],
   "source": [
    "WORKLOAD_LISTS=[\n",
    "#'OPCOUNTER_CMD','OPCOUNTER_QUERY','OPCOUNTER_UPDATE','OPCOUNTER_DELETE','OPCOUNTER_INSERT','OPCOUNTER_GETMORE',\n",
    "#'CONNECTIONS',\n",
    "#'OP_EXECUTION_TIME_READS', 'OP_EXECUTION_TIME_WRITES',\n",
    "#'SYSTEM_NORMALIZED_CPU_USER','SYSTEM_NORMALIZED_CPU_KERNEL'\n",
    "# 'MAX_SYSTEM_NORMALIZED_CPU_USER','MAX_SYSTEM_NORMALIZED_CPU_KERNEL'\n",
    " 'NETWORK_BYTES_IN','NETWORK_BYTES_OUT',\n",
    "# 'CACHE_USED_BYTES','SYSTEM_MEMORY_USED'\n",
    "]\n",
    "\n",
    "def getDataPoints(dataPoints):\n",
    "    timestamps=[]\n",
    "    values=[]\n",
    "    for dataPoint in dataPoints:\n",
    "        if dataPoint['value'] != None:\n",
    "            timestamps.append(datetime.strptime(dataPoint['timestamp'], \"%Y-%m-%dT%H:%M:%S%z\"))\n",
    "            values.append(dataPoint['value'])\n",
    "            #values.append(dataPoint['value']/1024/1024)\n",
    "    return values,timestamps\n",
    "\n",
    "data_names=[]\n",
    "data_timestamp=[]\n",
    "data_values=[]\n",
    "data_count=0\n",
    "\n",
    "for result in results:\n",
    "    #if 'CPU' in result['name'] :\n",
    "    if result['name'] in WORKLOAD_LISTS :\n",
    "        values,timestamps = getDataPoints(result['dataPoints'])\n",
    "        data_names.append( result['name'] )\n",
    "        #data_timestamp.append( timestamps )\n",
    "        data_timestamp = timestamps\n",
    "        data_values.append( values )\n",
    "        data_count+=1\n",
    "\n",
    "print('data_count  : ' + str(data_count))\n",
    "metric_df=pd.DataFrame(list(map(list, zip(*data_values))),index=data_timestamp,columns=data_names)\n",
    "metric_df.index.name = 'time'\n",
    "metric_df"
   ]
  },
  {
   "cell_type": "markdown",
   "id": "f8fd410c",
   "metadata": {},
   "source": [
    "# Workload Basic Operations"
   ]
  },
  {
   "cell_type": "code",
   "execution_count": 49,
   "id": "837c2c3e",
   "metadata": {},
   "outputs": [
    {
     "data": {
      "text/plain": [
       "<AxesSubplot:title={'center':'Workload Basic Operations'}, xlabel='time'>"
      ]
     },
     "execution_count": 49,
     "metadata": {},
     "output_type": "execute_result"
    },
    {
     "data": {
      "image/png": "[encoded data removed]",
      "text/plain": [
       "<Figure size 1440x720 with 1 Axes>"
      ]
     },
     "metadata": {
      "needs_background": "light"
     },
     "output_type": "display_data"
    }
   ],
   "source": [
    "#metric_df.plot()\n",
    "plt.figure(figsize=(20,10))\n",
    "plt.title('Workload Basic Operations')\n",
    "sns.lineplot(data=metric_df)"
   ]
  },
  {
   "cell_type": "code",
   "execution_count": 50,
   "id": "e753e4a8",
   "metadata": {},
   "outputs": [
    {
     "data": {
      "text/plain": [
       "<AxesSubplot:title={'center':'Workload Basic Operations'}, xlabel='time'>"
      ]
     },
     "execution_count": 50,
     "metadata": {},
     "output_type": "execute_result"
    },
    {
     "data": {
      "image/png": "[encoded data removed]",
      "text/plain": [
       "<Figure size 1440x720 with 1 Axes>"
      ]
     },
     "metadata": {
      "needs_background": "light"
     },
     "output_type": "display_data"
    }
   ],
   "source": [
    "# 1\n",
    "#start_time=pd.Timestamp(\"2021-10-25 02:55:00+00:00\")\n",
    "#end_time=pd.Timestamp(\"2021-10-25 03:05:00+00:00\")\n",
    "# 2\n",
    "#start_time=pd.Timestamp(\"2021-10-25 03:15:40+00:00\")\n",
    "#end_time=pd.Timestamp(\"2021-10-25 03:39:00+00:00\")\n",
    "\n",
    "# M60\n",
    "#start_time=pd.Timestamp(\"2021-10-26 08:47:00+00:00\")\n",
    "#end_time=pd.Timestamp(\"2021-10-26 09:00:00+00:00\")\n",
    "# Net\n",
    "#start_time=pd.Timestamp(\"2021-10-26 08:41:30+00:00\")\n",
    "#end_time=pd.Timestamp(\"2021-10-26 08:54:30+00:00\")\n",
    "\n",
    "# M80\n",
    "#start_time=pd.Timestamp(\"2021-10-26 07:40:30+00:00\")\n",
    "#end_time=pd.Timestamp(\"2021-10-26 07:53:00+00:00\")\n",
    "\n",
    "# 출근\n",
    "#start_time=pd.Timestamp(\"2021-10-24 18:55:47+00:00\")\n",
    "#end_time=pd.Timestamp(\"2021-10-24 19:08:45+00:00\")\n",
    "\n",
    "# 점심\n",
    "#start_time=pd.Timestamp(\"2021-10-25 02:55:00+00:00\")\n",
    "#end_time=pd.Timestamp(\"2021-10-25 03:05:00+00:00\")\n",
    "\n",
    "# 퇴근\n",
    "#start_time=pd.Timestamp(\"2021-10-24 07:07:00+00:00\")\n",
    "#end_time=pd.Timestamp(\"2021-10-24 07:19:00+00:00\")\n",
    "\n",
    "start_time=pd.Timestamp(\"2021-10-29 00:15:00+00:00\")\n",
    "end_time=pd.Timestamp(\"2021-10-29 00:22:30+00:00\")\n",
    "\n",
    "#metric_df_new=metric_df.between_time('3:00','4:00',True,False,0)\n",
    "metric_df_new=metric_df[(metric_df.index >= start_time) & (metric_df.index < end_time)]\n",
    "#metric_df_new=metric_df\n",
    "#metric_df_new.drop('dummy', inplace=True, axis=1)\n",
    "\n",
    "plt.figure(figsize=(20,10))\n",
    "plt.title('Workload Basic Operations')\n",
    "sns.lineplot(data=metric_df_new)"
   ]
  },
  {
   "cell_type": "code",
   "execution_count": 51,
   "id": "91371fd5",
   "metadata": {},
   "outputs": [
    {
     "name": "stderr",
     "output_type": "stream",
     "text": [
      "/Users/marantz/.pyenv/versions/3.7.6/lib/python3.7/site-packages/ipykernel_launcher.py:2: SettingWithCopyWarning: \n",
      "A value is trying to be set on a copy of a slice from a DataFrame.\n",
      "Try using .loc[row_indexer,col_indexer] = value instead\n",
      "\n",
      "See the caveats in the documentation: https://pandas.pydata.org/pandas-docs/stable/user_guide/indexing.html#returning-a-view-versus-a-copy\n",
      "  \n"
     ]
    },
    {
     "data": {
      "text/html": [
       "<div>\n",
       "<style scoped>\n",
       "    .dataframe tbody tr th:only-of-type {\n",
       "        vertical-align: middle;\n",
       "    }\n",
       "\n",
       "    .dataframe tbody tr th {\n",
       "        vertical-align: top;\n",
       "    }\n",
       "\n",
       "    .dataframe thead tr th {\n",
       "        text-align: left;\n",
       "    }\n",
       "\n",
       "    .dataframe thead tr:last-of-type th {\n",
       "        text-align: right;\n",
       "    }\n",
       "</style>\n",
       "<table border=\"1\" class=\"dataframe\">\n",
       "  <thead>\n",
       "    <tr>\n",
       "      <th></th>\n",
       "      <th colspan=\"3\" halign=\"left\">NETWORK_BYTES_IN</th>\n",
       "      <th colspan=\"3\" halign=\"left\">NETWORK_BYTES_OUT</th>\n",
       "    </tr>\n",
       "    <tr>\n",
       "      <th></th>\n",
       "      <th>min</th>\n",
       "      <th>mean</th>\n",
       "      <th>max</th>\n",
       "      <th>min</th>\n",
       "      <th>mean</th>\n",
       "      <th>max</th>\n",
       "    </tr>\n",
       "    <tr>\n",
       "      <th>time</th>\n",
       "      <th></th>\n",
       "      <th></th>\n",
       "      <th></th>\n",
       "      <th></th>\n",
       "      <th></th>\n",
       "      <th></th>\n",
       "    </tr>\n",
       "  </thead>\n",
       "  <tbody>\n",
       "    <tr>\n",
       "      <th>True</th>\n",
       "      <td>10911.5</td>\n",
       "      <td>3.826386e+07</td>\n",
       "      <td>4.627088e+07</td>\n",
       "      <td>226349.4</td>\n",
       "      <td>5.149555e+07</td>\n",
       "      <td>6.436875e+07</td>\n",
       "    </tr>\n",
       "  </tbody>\n",
       "</table>\n",
       "</div>"
      ],
      "text/plain": [
       "     NETWORK_BYTES_IN                             NETWORK_BYTES_OUT  \\\n",
       "                  min          mean           max               min   \n",
       "time                                                                  \n",
       "True          10911.5  3.826386e+07  4.627088e+07          226349.4   \n",
       "\n",
       "                                  \n",
       "              mean           max  \n",
       "time                              \n",
       "True  5.149555e+07  6.436875e+07  "
      ]
     },
     "execution_count": 51,
     "metadata": {},
     "output_type": "execute_result"
    }
   ],
   "source": [
    "#metric_df_new=metric_df\n",
    "metric_df_new['dummy'] = 1\n",
    "print_df=metric_df_new.groupby(lambda x: True).agg(['min','mean','max'])\n",
    "print_df.drop('dummy', inplace=True, axis=1)\n",
    "#print_df=print_df.transpose()\n",
    "print_df"
   ]
  },
  {
   "cell_type": "code",
   "execution_count": 52,
   "id": "263f4af9",
   "metadata": {},
   "outputs": [],
   "source": [
    "with pd.ExcelWriter('measurements_workload.xlsx') as writer:\n",
    "    print_df.to_excel(writer, sheet_name=\"workload\")"
   ]
  },
  {
   "cell_type": "code",
   "execution_count": 18,
   "id": "e37b4a2d",
   "metadata": {},
   "outputs": [
    {
     "data": {
      "text/plain": [
       "DatetimeIndex(['2021-10-29 00:09:09+00:00'], dtype='datetime64[ns, UTC]', name='time', freq=None)"
      ]
     },
     "execution_count": 18,
     "metadata": {},
     "output_type": "execute_result"
    }
   ],
   "source": [
    "metric_df.head(1).index"
   ]
  },
  {
   "cell_type": "code",
   "execution_count": 19,
   "id": "d3352eb1",
   "metadata": {},
   "outputs": [
    {
     "data": {
      "text/plain": [
       "DatetimeIndex(['2021-10-29 00:23:29+00:00'], dtype='datetime64[ns, UTC]', name='time', freq=None)"
      ]
     },
     "execution_count": 19,
     "metadata": {},
     "output_type": "execute_result"
    }
   ],
   "source": [
    "metric_df.tail(1).index"
   ]
  },
  {
   "cell_type": "code",
   "execution_count": 20,
   "id": "4464614f",
   "metadata": {},
   "outputs": [
    {
     "data": {
      "text/plain": [
       "DatetimeIndex(['2021-10-29 00:15:09+00:00'], dtype='datetime64[ns, UTC]', name='time', freq=None)"
      ]
     },
     "execution_count": 20,
     "metadata": {},
     "output_type": "execute_result"
    }
   ],
   "source": [
    "metric_df_new.head(1).index"
   ]
  },
  {
   "cell_type": "code",
   "execution_count": 21,
   "id": "445e9318",
   "metadata": {},
   "outputs": [
    {
     "data": {
      "text/plain": [
       "DatetimeIndex(['2021-10-29 00:22:29+00:00'], dtype='datetime64[ns, UTC]', name='time', freq=None)"
      ]
     },
     "execution_count": 21,
     "metadata": {},
     "output_type": "execute_result"
    }
   ],
   "source": [
    "metric_df_new.tail(1).index"
   ]
  }
 ],
 "metadata": {
  "kernelspec": {
   "display_name": "Python 3 (ipykernel)",
   "language": "python",
   "name": "python3"
  },
  "language_info": {
   "codemirror_mode": {
    "name": "ipython",
    "version": 3
   },
   "file_extension": ".py",
   "mimetype": "text/x-python",
   "name": "python",
   "nbconvert_exporter": "python",
   "pygments_lexer": "ipython3",
   "version": "3.7.6"
  }
 },
 "nbformat": 4,
 "nbformat_minor": 5
}
