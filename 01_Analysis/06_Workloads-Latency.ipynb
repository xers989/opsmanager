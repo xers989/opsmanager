{
 "cells": [
  {
   "cell_type": "code",
   "execution_count": 1,
   "id": "360b0a04",
   "metadata": {},
   "outputs": [
    {
     "name": "stderr",
     "output_type": "stream",
     "text": [
      "/Users/marantz/.pyenv/versions/3.7.6/lib/python3.7/site-packages/pandas/compat/__init__.py:124: UserWarning: Could not import the lzma module. Your installed Python is incomplete. Attempting to use lzma compression will result in a RuntimeError.\n",
      "  warnings.warn(msg)\n"
     ]
    }
   ],
   "source": [
    "import json\n",
    "import pandas as pd\n",
    "import numpy as np \n",
    "import requests\n",
    "import seaborn as sns\n",
    "from datetime import datetime\n",
    "from requests.auth import HTTPDigestAuth\n",
    "from matplotlib import pyplot as plt"
   ]
  },
  {
   "cell_type": "code",
   "execution_count": null,
   "id": "4e9c54c0",
   "metadata": {},
   "outputs": [],
   "source": [
    "# PUB_KEY=\"wmhpimjc\"\n",
    "# PRIVATE_KEY=\"00634500-6801-4399-8463-e94c09df6521\"\n",
    "# GROUP_ID=\"5cc99cd879358e1a071da4a5\"\\\n",
    "# # curl -i -u \"{PUBLIC-KEY}:{PRIVATE-KEY}\"\n",
    "# # --digest \"https://cloud.mongodb.com/api/atlas/v1.0/groups/{GROUP-ID}/processes/\n",
    "# # atlas-39m1v8-shard-00-01.pmezp.mongodb.net:27017\n",
    "# # measurements?granularity=PT1M&period=2H&pretty=true\"\n",
    "# RESOURCE_ID=\"atlas-rvoilc-shard-00-02.pmezp.mongodb.net:27017\"\n",
    "\n",
    "# BASE_URL=\"https://cloud.mongodb.com/api/atlas/v1.0/groups/\"\n",
    "# REQUESTS_URL=BASE_URL + GROUP_ID + \"/processes/\"+ RESOURCE_ID +\"/measurements?granularity=PT1M&period=PT1H\"\n",
    "# REQUESTS_URL"
   ]
  },
  {
   "cell_type": "code",
   "execution_count": null,
   "id": "bd6f3f95",
   "metadata": {},
   "outputs": [],
   "source": [
    "# response=requests.get(REQUESTS_URL, auth=HTTPDigestAuth(PUB_KEY, PRIVATE_KEY))"
   ]
  },
  {
   "cell_type": "code",
   "execution_count": null,
   "id": "cdcd1706",
   "metadata": {},
   "outputs": [],
   "source": [
    "# response.status_code "
   ]
  },
  {
   "cell_type": "code",
   "execution_count": null,
   "id": "3671d683",
   "metadata": {},
   "outputs": [],
   "source": [
    "# response.text"
   ]
  },
  {
   "cell_type": "code",
   "execution_count": null,
   "id": "f5dcacf8",
   "metadata": {},
   "outputs": [],
   "source": [
    "#dict = json.load(json_file)\n",
    "dict={}\n",
    "\n",
    "#file_path='/Users/marantz/Desktop/WORKs/KBS/mediafactory/metrics/'\n",
    "#file_name='status_mediafactory-prod-shard-00-01.edwaq.mongodb.net_27017_20211022003529.json'\n",
    "#file_path='/Users/marantz/Sources/ZX_Temp/'\n",
    "#file_name='status_mediafactory-prod-shard-00-01.edwaq.mongodb.net:27017_20211022141724.json'\n",
    "#\n",
    "file_path='/Users/marantz/Desktop/WORKs/Dreamus/METRICS/mongodb_status_1022/'\n",
    "file_name='status_MMATEtx-mgod-02_PT10S_PT24H_20211021172342.json'\n",
    "\n",
    "full_path=file_path+file_name\n",
    "\n",
    "with open(full_path) as json_file:\n",
    "    dict = json.load(json_file)"
   ]
  },
  {
   "cell_type": "code",
   "execution_count": null,
   "id": "5909433a",
   "metadata": {},
   "outputs": [],
   "source": [
    "results=dict['measurements']"
   ]
  },
  {
   "cell_type": "code",
   "execution_count": null,
   "id": "93df46d8",
   "metadata": {},
   "outputs": [],
   "source": [
    "#results"
   ]
  },
  {
   "cell_type": "code",
   "execution_count": null,
   "id": "5d88a94e",
   "metadata": {},
   "outputs": [],
   "source": [
    "df=pd.DataFrame(results)\n",
    "df"
   ]
  },
  {
   "cell_type": "code",
   "execution_count": null,
   "id": "6fa6d1bf",
   "metadata": {},
   "outputs": [],
   "source": [
    "names=df['name'].unique()\n",
    "names"
   ]
  },
  {
   "cell_type": "code",
   "execution_count": null,
   "id": "a52ff6fd",
   "metadata": {},
   "outputs": [],
   "source": [
    "units=df['units'].unique()\n",
    "units"
   ]
  },
  {
   "cell_type": "code",
   "execution_count": null,
   "id": "28e19523",
   "metadata": {},
   "outputs": [],
   "source": [
    "df.keys()"
   ]
  },
  {
   "cell_type": "code",
   "execution_count": null,
   "id": "44381333",
   "metadata": {},
   "outputs": [],
   "source": [
    "WORKLOAD_LISTS=[\n",
    "#'OP_EXECUTION_TIME_READS','OP_EXECUTION_TIME_WRITES',\n",
    "#'NETWORK_BYTES_IN','NETWORK_BYTES_OUT'\n",
    "#'PROCESS_CPU_USER','PROCESS_CPU_KERNEL',\n",
    "'SYSTEM_CPU_USER','SYSTEM_CPU_KERNEL',\n",
    "]\n",
    "\n",
    "def getDataPoints(dataPoints):\n",
    "    timestamps=[]\n",
    "    values=[]\n",
    "    for dataPoint in dataPoints:\n",
    "        #if dataPoint['value'] != None:\n",
    "        timestamps.append(datetime.strptime(dataPoint['timestamp'], \"%Y-%m-%dT%H:%M:%S%z\"))\n",
    "        values.append(dataPoint['value'])\n",
    "        # Bytes\n",
    "        #values.append(dataPoint['value']/1024)\n",
    "    return values,timestamps\n",
    "\n",
    "data_names=[]\n",
    "data_timestamp=[]\n",
    "data_values=[]\n",
    "data_count=0\n",
    "\n",
    "for result in results:\n",
    "    #if 'CPU' in result['name'] :\n",
    "    if result['name'] in WORKLOAD_LISTS :\n",
    "        values,timestamps = getDataPoints(result['dataPoints'])\n",
    "        data_names.append( result['name'] )\n",
    "        #data_timestamp.append( timestamps )\n",
    "        data_timestamp = timestamps\n",
    "        data_values.append( values )\n",
    "        data_count+=1\n",
    "\n",
    "print('data_count  : ' + str(data_count))\n",
    "metric_df=pd.DataFrame(list(map(list, zip(*data_values))),index=data_timestamp,columns=data_names)\n",
    "metric_df.index.name = 'time'\n",
    "metric_df\n"
   ]
  },
  {
   "cell_type": "markdown",
   "id": "f8fd410c",
   "metadata": {},
   "source": [
    "# Workload Basic Operations"
   ]
  },
  {
   "cell_type": "code",
   "execution_count": null,
   "id": "837c2c3e",
   "metadata": {},
   "outputs": [],
   "source": [
    "#metric_df.plot()\n",
    "plt.figure(figsize=(20,10))\n",
    "plt.title('Workload Basic Operations')\n",
    "sns.lineplot(data=metric_df)"
   ]
  },
  {
   "cell_type": "code",
   "execution_count": null,
   "id": "e753e4a8",
   "metadata": {},
   "outputs": [],
   "source": [
    "start_time=pd.Timestamp(\"2021-10-21 01:55:00+00:00\")\n",
    "end_time=pd.Timestamp(\"2021-10-21 02:39:00+00:00\")\n",
    "\n",
    "#metric_df_new=metric_df.between_time('3:00','4:00',True,False,0)\n",
    "metric_df_new=metric_df[(metric_df.index >= start_time) & (metric_df.index < end_time)]\n",
    "\n",
    "plt.figure(figsize=(20,10))\n",
    "plt.title('Workload Basic Operations')\n",
    "sns.lineplot(data=metric_df_new)"
   ]
  },
  {
   "cell_type": "code",
   "execution_count": null,
   "id": "450df920",
   "metadata": {},
   "outputs": [],
   "source": [
    "metric_df_new=metric_df\n",
    "metric_df_new['dummy'] = 1\n",
    "\n",
    "print_df=metric_df_new.groupby(lambda x: True).agg(['min','mean','max'])\n",
    "print_df.drop('dummy', inplace=True, axis=1)\n",
    "#print_df=print_df.transpose()\n",
    "print_df"
   ]
  },
  {
   "cell_type": "code",
   "execution_count": null,
   "id": "59e9410c",
   "metadata": {},
   "outputs": [],
   "source": [
    "with pd.ExcelWriter('measurements.xlsx') as writer:\n",
    "    print_df.to_excel(writer, sheet_name=\"net_in_out\")"
   ]
  },
  {
   "cell_type": "code",
   "execution_count": null,
   "id": "e37b4a2d",
   "metadata": {},
   "outputs": [],
   "source": [
    "metric_df.head(1).index"
   ]
  },
  {
   "cell_type": "code",
   "execution_count": null,
   "id": "d3352eb1",
   "metadata": {},
   "outputs": [],
   "source": [
    "metric_df.tail(1).index"
   ]
  },
  {
   "cell_type": "code",
   "execution_count": null,
   "id": "4464614f",
   "metadata": {},
   "outputs": [],
   "source": [
    "metric_df_new.head(1).index"
   ]
  },
  {
   "cell_type": "code",
   "execution_count": null,
   "id": "445e9318",
   "metadata": {},
   "outputs": [],
   "source": [
    "metric_df_new.tail(1).index"
   ]
  }
 ],
 "metadata": {
  "kernelspec": {
   "display_name": "Python 3 (ipykernel)",
   "language": "python",
   "name": "python3"
  },
  "language_info": {
   "codemirror_mode": {
    "name": "ipython",
    "version": 3
   },
   "file_extension": ".py",
   "mimetype": "text/x-python",
   "name": "python",
   "nbconvert_exporter": "python",
   "pygments_lexer": "ipython3",
   "version": "3.7.6"
  }
 },
 "nbformat": 4,
 "nbformat_minor": 5
}
